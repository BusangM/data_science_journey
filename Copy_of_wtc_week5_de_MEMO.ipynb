{
  "cells": [
    {
      "cell_type": "markdown",
      "metadata": {
        "id": "view-in-github",
        "colab_type": "text"
      },
      "source": [
        "<a href=\"https://colab.research.google.com/github/BusangM/data_science_journey/blob/main/Copy_of_wtc_week5_de_MEMO.ipynb\" target=\"_parent\"><img src=\"https://colab.research.google.com/assets/colab-badge.svg\" alt=\"Open In Colab\"/></a>"
      ]
    },
    {
      "cell_type": "markdown",
      "metadata": {
        "id": "3A504hqzPBBB"
      },
      "source": [
        "# Data Eng: Week 5 Practical Memo\n"
      ]
    },
    {
      "cell_type": "markdown",
      "source": [
        "## Setup\n",
        "\n",
        "First, you need to set up your environment, which includes installing `apache-beam` and downloading a text file from Cloud Storage to your local file system. We are using this file to test your pipeline."
      ],
      "metadata": {
        "id": "dBBmUcApM8P_"
      }
    },
    {
      "cell_type": "code",
      "source": [
        "# Run and print a shell command.\n",
        "def run(cmd):\n",
        "  print('>> {}'.format(cmd))\n",
        "  !{cmd}\n",
        "  print('')\n",
        "\n",
        "run('pip install --upgrade pip')\n",
        "\n",
        "# Install apache-beam.\n",
        "run('pip install --quiet apache-beam')\n",
        "\n",
        "# Copy the input file into the local file system.\n",
        "run('wget https://storage.googleapis.com/bdt-beam-store/orders.csv -O orders.csv')\n",
        "run('wget https://storage.googleapis.com/bdt-beam-store/users.csv -O users.csv')\n"
      ],
      "metadata": {
        "id": "fKUs8cSkM-ov",
        "colab": {
          "base_uri": "https://localhost:8080/"
        },
        "outputId": "8128afa2-384a-43de-cdad-e50bc8b2b711"
      },
      "execution_count": null,
      "outputs": [
        {
          "output_type": "stream",
          "name": "stdout",
          "text": [
            ">> pip install --upgrade pip\n",
            "Requirement already satisfied: pip in /usr/local/lib/python3.10/dist-packages (24.1.2)\n",
            "Collecting pip\n",
            "  Downloading pip-24.3.1-py3-none-any.whl.metadata (3.7 kB)\n",
            "Downloading pip-24.3.1-py3-none-any.whl (1.8 MB)\n",
            "\u001b[2K   \u001b[90m━━━━━━━━━━━━━━━━━━━━━━━━━━━━━━━━━━━━━━━━\u001b[0m \u001b[32m1.8/1.8 MB\u001b[0m \u001b[31m11.6 MB/s\u001b[0m eta \u001b[36m0:00:00\u001b[0m\n",
            "\u001b[?25hInstalling collected packages: pip\n",
            "  Attempting uninstall: pip\n",
            "    Found existing installation: pip 24.1.2\n",
            "    Uninstalling pip-24.1.2:\n",
            "      Successfully uninstalled pip-24.1.2\n",
            "Successfully installed pip-24.3.1\n",
            "\n",
            ">> pip install --quiet apache-beam\n",
            "  Preparing metadata (setup.py) ... \u001b[?25l\u001b[?25hdone\n",
            "  Preparing metadata (setup.py) ... \u001b[?25l\u001b[?25hdone\n",
            "  Preparing metadata (setup.py) ... \u001b[?25l\u001b[?25hdone\n",
            "  Preparing metadata (setup.py) ... \u001b[?25l\u001b[?25hdone\n",
            "\u001b[2K   \u001b[90m━━━━━━━━━━━━━━━━━━━━━━━━━━━━━━━━━━━━━━━━\u001b[0m \u001b[32m15.7/15.7 MB\u001b[0m \u001b[31m65.8 MB/s\u001b[0m eta \u001b[36m0:00:00\u001b[0m\n",
            "\u001b[2K   \u001b[90m━━━━━━━━━━━━━━━━━━━━━━━━━━━━━━━━━━━━━━━━\u001b[0m \u001b[32m3.1/3.1 MB\u001b[0m \u001b[31m53.3 MB/s\u001b[0m eta \u001b[36m0:00:00\u001b[0m\n",
            "\u001b[2K   \u001b[90m━━━━━━━━━━━━━━━━━━━━━━━━━━━━━━━━━━━━━━━━\u001b[0m \u001b[32m5.7/5.7 MB\u001b[0m \u001b[31m61.1 MB/s\u001b[0m eta \u001b[36m0:00:00\u001b[0m\n",
            "\u001b[2K   \u001b[90m━━━━━━━━━━━━━━━━━━━━━━━━━━━━━━━━━━━━━━━━\u001b[0m \u001b[32m40.8/40.8 MB\u001b[0m \u001b[31m38.3 MB/s\u001b[0m eta \u001b[36m0:00:00\u001b[0m\n",
            "\u001b[2K   \u001b[90m━━━━━━━━━━━━━━━━━━━━━━━━━━━━━━━━━━━━━━━━\u001b[0m \u001b[32m1.4/1.4 MB\u001b[0m \u001b[31m29.8 MB/s\u001b[0m eta \u001b[36m0:00:00\u001b[0m\n",
            "\u001b[2K   \u001b[90m━━━━━━━━━━━━━━━━━━━━━━━━━━━━━━━━━━━━━━━━\u001b[0m \u001b[32m5.4/5.4 MB\u001b[0m \u001b[31m51.8 MB/s\u001b[0m eta \u001b[36m0:00:00\u001b[0m\n",
            "\u001b[?25h  Building wheel for crcmod (setup.py) ... \u001b[?25l\u001b[?25hdone\n",
            "  Building wheel for dill (setup.py) ... \u001b[?25l\u001b[?25hdone\n",
            "  Building wheel for hdfs (setup.py) ... \u001b[?25l\u001b[?25hdone\n",
            "  Building wheel for docopt (setup.py) ... \u001b[?25l\u001b[?25hdone\n",
            "\u001b[31mERROR: pip's dependency resolver does not currently take into account all the packages that are installed. This behaviour is the source of the following dependency conflicts.\n",
            "dask 2024.10.0 requires cloudpickle>=3.0.0, but you have cloudpickle 2.2.1 which is incompatible.\u001b[0m\u001b[31m\n",
            "\u001b[0m\n",
            ">> wget https://storage.googleapis.com/bdt-beam-store/orders.csv -O orders.csv\n",
            "--2024-11-13 07:10:34--  https://storage.googleapis.com/bdt-beam-store/orders.csv\n",
            "Resolving storage.googleapis.com (storage.googleapis.com)... 142.251.111.207, 142.251.163.207, 142.251.167.207, ...\n",
            "Connecting to storage.googleapis.com (storage.googleapis.com)|142.251.111.207|:443... connected.\n",
            "HTTP request sent, awaiting response... 200 OK\n",
            "Length: 6087 (5.9K) [text/csv]\n",
            "Saving to: ‘orders.csv’\n",
            "\n",
            "orders.csv          100%[===================>]   5.94K  --.-KB/s    in 0s      \n",
            "\n",
            "2024-11-13 07:10:35 (49.6 MB/s) - ‘orders.csv’ saved [6087/6087]\n",
            "\n",
            "\n",
            ">> wget https://storage.googleapis.com/bdt-beam-store/users.csv -O users.csv\n",
            "--2024-11-13 07:10:35--  https://storage.googleapis.com/bdt-beam-store/users.csv\n",
            "Resolving storage.googleapis.com (storage.googleapis.com)... 142.251.111.207, 142.251.163.207, 142.251.167.207, ...\n",
            "Connecting to storage.googleapis.com (storage.googleapis.com)|142.251.111.207|:443... connected.\n",
            "HTTP request sent, awaiting response... 200 OK\n",
            "Length: 5566 (5.4K) [text/csv]\n",
            "Saving to: ‘users.csv’\n",
            "\n",
            "users.csv           100%[===================>]   5.44K  --.-KB/s    in 0s      \n",
            "\n",
            "2024-11-13 07:10:36 (40.2 MB/s) - ‘users.csv’ saved [5566/5566]\n",
            "\n",
            "\n"
          ]
        }
      ]
    },
    {
      "cell_type": "code",
      "source": [
        "import apache_beam as beam\n",
        "import re\n",
        "\n",
        "outputs_prefix = 'outputs/part'"
      ],
      "metadata": {
        "id": "SjKVpsTVNG_u"
      },
      "execution_count": null,
      "outputs": []
    },
    {
      "cell_type": "markdown",
      "source": [
        "## Task 1: Basic transformations\n",
        "\n",
        "### Task 1.1\n",
        "> Read the input file (users.csv) into an initial PCollection\n",
        "\n",
        "### Task 1.2\n",
        "> Perform a transform to split each row from the input file into separate elements (e.g. user, gender etc.) so that you may process them"
      ],
      "metadata": {
        "id": "QZPf7KEj_6nj"
      }
    },
    {
      "cell_type": "code",
      "source": [
        "user_header = ['user', 'gender', 'age', 'address', 'date']\n",
        "\n",
        "\n",
        "class Transform(beam.DoFn):\n",
        "\n",
        "  # Use classes to perform transformations on your PCollections\n",
        "  # Yield or return the element(s) needed as input for the next transform\n",
        "  def process(self, element):\n",
        "    yield dict(zip(user_header, element.split(',')))\n",
        "\n",
        "\n",
        "with beam.Pipeline() as pipeline:\n",
        "  (pipeline\n",
        "      | 'Read lines' >> beam.io.ReadFromText('users.csv')\n",
        "      | 'format line' >> beam.ParDo(Transform())\n",
        "      | \"print\" >> beam.Map(print)\n",
        "  )\n"
      ],
      "metadata": {
        "id": "4DUAyg2uAhHn",
        "colab": {
          "base_uri": "https://localhost:8080/",
          "height": 1000
        },
        "outputId": "847f05ff-5f35-4e2b-da57-509a7fe52079"
      },
      "execution_count": null,
      "outputs": [
        {
          "output_type": "stream",
          "name": "stderr",
          "text": [
            "WARNING:apache_beam.runners.interactive.interactive_environment:Dependencies required for Interactive Beam PCollection visualization are not available, please use: `pip install apache-beam[interactive]` to install necessary dependencies to enable all data visualization features.\n"
          ]
        },
        {
          "output_type": "display_data",
          "data": {
            "application/javascript": [
              "\n",
              "        if (typeof window.interactive_beam_jquery == 'undefined') {\n",
              "          var jqueryScript = document.createElement('script');\n",
              "          jqueryScript.src = 'https://code.jquery.com/jquery-3.4.1.slim.min.js';\n",
              "          jqueryScript.type = 'text/javascript';\n",
              "          jqueryScript.onload = function() {\n",
              "            var datatableScript = document.createElement('script');\n",
              "            datatableScript.src = 'https://cdn.datatables.net/1.10.20/js/jquery.dataTables.min.js';\n",
              "            datatableScript.type = 'text/javascript';\n",
              "            datatableScript.onload = function() {\n",
              "              window.interactive_beam_jquery = jQuery.noConflict(true);\n",
              "              window.interactive_beam_jquery(document).ready(function($){\n",
              "                \n",
              "              });\n",
              "            }\n",
              "            document.head.appendChild(datatableScript);\n",
              "          };\n",
              "          document.head.appendChild(jqueryScript);\n",
              "        } else {\n",
              "          window.interactive_beam_jquery(document).ready(function($){\n",
              "            \n",
              "          });\n",
              "        }"
            ]
          },
          "metadata": {}
        },
        {
          "output_type": "stream",
          "name": "stdout",
          "text": [
            "{'user': 'User', 'gender': 'Gender', 'age': 'Age', 'address': 'Address', 'date': 'Date joined'}\n",
            "{'user': 'Amy Sullivan', 'gender': 'Female', 'age': '20', 'address': ' Westlake-OH-44145', 'date': '2020/08/31'}\n",
            "{'user': 'Paige Dixon', 'gender': 'Female', 'age': '43', 'address': ' Hicksville-NY-11801', 'date': '2020/03/22'}\n",
            "{'user': 'Valeria Hamilton', 'gender': 'Female', 'age': '54', 'address': ' Meriden-CT-6450', 'date': '2020/05/28'}\n",
            "{'user': 'Justin Robinson', 'gender': 'Male', 'age': '35', 'address': ' Auburn-NY-13021', 'date': '2020/04/04'}\n",
            "{'user': 'Frederick Barnes', 'gender': 'Male', 'age': '48', 'address': ' Ridgewood-NJ-7450', 'date': '2020/05/12'}\n",
            "{'user': 'Lydia Kelly', 'gender': 'Female', 'age': '38', 'address': ' Omaha-NE-68107', 'date': '2020/04/17'}\n",
            "{'user': 'Wilson Riley', 'gender': 'Male', 'age': '39', 'address': ' Newton-NJ-7860', 'date': '2020/02/02'}\n",
            "{'user': 'Arthur Reed', 'gender': 'Male', 'age': '32', 'address': ' Hobart-IN-46342', 'date': '2020/08/01'}\n",
            "{'user': 'Preston Nelson', 'gender': 'Male', 'age': '29', 'address': ' Long Beach-NY-11561', 'date': '2020/01/25'}\n",
            "{'user': 'Haris Watson', 'gender': 'Male', 'age': '29', 'address': ' Hamilton-OH-45011', 'date': '2020/02/06'}\n",
            "{'user': 'Sam Martin', 'gender': 'Male', 'age': '44', 'address': ' Ankeny-IA-50023', 'date': '2020/04/08'}\n",
            "{'user': 'Lucy Campbell', 'gender': 'Female', 'age': '24', 'address': ' Bolingbrook-IL-60440', 'date': '2020/05/15'}\n",
            "{'user': 'Adrian Wright', 'gender': 'Male', 'age': '54', 'address': ' Ashburn-VA-20147', 'date': '2020/08/27'}\n",
            "{'user': 'Chloe Smith', 'gender': 'Female', 'age': '40', 'address': ' Battle Ground-WA-98604', 'date': '2020/04/30'}\n",
            "{'user': 'William Owens', 'gender': 'Male', 'age': '20', 'address': ' Goshen-IN-46526', 'date': '2020/07/10'}\n",
            "{'user': 'Vivian Farrell', 'gender': 'Female', 'age': '42', 'address': ' Lincoln Park-MI-48146', 'date': '2020/01/23'}\n",
            "{'user': 'Brad Hamilton', 'gender': 'Male', 'age': '48', 'address': ' Crofton-MD-21114', 'date': '2020/06/23'}\n",
            "{'user': 'Rosie Adams', 'gender': 'Female', 'age': '48', 'address': ' New City-NY-10956', 'date': '2020/01/22'}\n",
            "{'user': 'Victoria Richardson', 'gender': 'Female', 'age': '47', 'address': ' Thibodaux-LA-70301', 'date': '2020/03/12'}\n",
            "{'user': 'Michael Sullivan', 'gender': 'Male', 'age': '52', 'address': ' Helena-MT-59601', 'date': '2020/02/24'}\n",
            "{'user': 'Andrew Douglas', 'gender': 'Male', 'age': '36', 'address': ' Staunton-VA-24401', 'date': '2020/01/31'}\n",
            "{'user': 'Ted Owens', 'gender': 'Male', 'age': '51', 'address': ' Shepherdsville-KY-40165', 'date': '2020/02/29'}\n",
            "{'user': 'Sawyer Andrews', 'gender': 'Male', 'age': '21', 'address': ' Frederick-MD-21701', 'date': '2020/08/13'}\n",
            "{'user': 'Heather Russell', 'gender': 'Female', 'age': '17', 'address': ' Chippewa Falls-WI-54729', 'date': '2020/08/20'}\n",
            "{'user': 'Edith Harper', 'gender': 'Female', 'age': '55', 'address': ' Ithaca-NY-14850', 'date': '2020/03/28'}\n",
            "{'user': 'Rosie Stevens', 'gender': 'Female', 'age': '42', 'address': ' Corpus Christi-TX-78418', 'date': '2020/03/11'}\n",
            "{'user': 'Jack Richardson', 'gender': 'Male', 'age': '23', 'address': ' Bridgeport-CT-6606', 'date': '2020/07/08'}\n",
            "{'user': 'Paul Casey', 'gender': 'Male', 'age': '48', 'address': ' Phillipsburg-NJ-8865', 'date': '2020/07/07'}\n",
            "{'user': 'Eddy Reed', 'gender': 'Male', 'age': '45', 'address': ' Elizabeth-NJ-7202', 'date': '2020/02/06'}\n",
            "{'user': 'Agata Mason', 'gender': 'Female', 'age': '27', 'address': ' Farmingdale-NY-11735', 'date': '2020/05/25'}\n",
            "{'user': 'Vincent Gibson', 'gender': 'Male', 'age': '34', 'address': ' Rolling Meadows-IL-60008', 'date': '2020/06/02'}\n",
            "{'user': 'Preston Stevens', 'gender': 'Male', 'age': '25', 'address': ' Pembroke Pines-FL-33028', 'date': '2020/04/06'}\n",
            "{'user': 'Vanessa Morris', 'gender': 'Female', 'age': '21', 'address': ' Davison-MI-48423', 'date': '2020/06/17'}\n",
            "{'user': 'Alfred Russell', 'gender': 'Male', 'age': '49', 'address': ' Summerfield-FL-34491', 'date': '2020/07/08'}\n",
            "{'user': 'Julian Wright', 'gender': 'Male', 'age': '31', 'address': ' Victoria-TX-77904', 'date': '2020/08/17'}\n",
            "{'user': 'William Edwards', 'gender': 'Male', 'age': '41', 'address': ' Summerville-SC-29483', 'date': '2020/05/25'}\n",
            "{'user': 'Ashton Anderson', 'gender': 'Male', 'age': '29', 'address': ' Council Bluffs-IA-51501', 'date': '2020/08/11'}\n",
            "{'user': 'Carlos Russell', 'gender': 'Male', 'age': '30', 'address': ' Alliance-OH-44601', 'date': '2020/08/22'}\n",
            "{'user': 'Catherine Johnston', 'gender': 'Female', 'age': '42', 'address': ' Chaska-MN-55318', 'date': '2020/08/12'}\n",
            "{'user': 'Grace Robinson', 'gender': 'Female', 'age': '53', 'address': ' Lake Mary-FL-32746', 'date': '2020/01/15'}\n",
            "{'user': 'Chester Dixon', 'gender': 'Male', 'age': '53', 'address': ' Middleton-WI-53562', 'date': '2020/07/27'}\n",
            "{'user': 'Sophia Hunt', 'gender': 'Female', 'age': '49', 'address': ' Kingston-NY-12401', 'date': '2020/05/21'}\n",
            "{'user': 'Isabella Johnston', 'gender': 'Female', 'age': '46', 'address': ' Union City-NJ-7087', 'date': '2020/01/16'}\n",
            "{'user': 'Amelia Warren', 'gender': 'Female', 'age': '22', 'address': ' Roy-UT-84067', 'date': '2020/02/27'}\n",
            "{'user': 'Aldus Moore', 'gender': 'Male', 'age': '55', 'address': ' Wooster-OH-44691', 'date': '2020/03/16'}\n",
            "{'user': 'Gianna Gibson', 'gender': 'Female', 'age': '42', 'address': ' Champaign-IL-61821', 'date': '2020/07/31'}\n",
            "{'user': 'Clark West', 'gender': 'Male', 'age': '50', 'address': ' Aberdeen-SD-57401', 'date': '2020/03/21'}\n",
            "{'user': 'Roman Wells', 'gender': 'Male', 'age': '36', 'address': ' Wantagh-NY-11793', 'date': '2020/04/29'}\n",
            "{'user': 'Vanessa Davis', 'gender': 'Female', 'age': '20', 'address': ' Colorado Springs-CO-80911', 'date': '2020/05/05'}\n",
            "{'user': 'Tara Anderson', 'gender': 'Female', 'age': '42', 'address': ' Pelham-AL-35124', 'date': '2020/01/05'}\n",
            "{'user': 'Tony Wilson', 'gender': 'Male', 'age': '25', 'address': ' Rocky Mount-NC-27804', 'date': '2020/06/18'}\n",
            "{'user': 'Oliver Sullivan', 'gender': 'Male', 'age': '55', 'address': ' Grovetown-GA-30813', 'date': '2020/03/03'}\n",
            "{'user': 'Eleanor Ryan', 'gender': 'Female', 'age': '25', 'address': ' Winchester-VA-22601', 'date': '2020/08/26'}\n",
            "{'user': 'Kate Thomas', 'gender': 'Female', 'age': '20', 'address': ' Woodstock-GA-30188', 'date': '2020/03/15'}\n",
            "{'user': 'Alexia Payne', 'gender': 'Female', 'age': '25', 'address': ' Buckeye-AZ-85326', 'date': '2020/02/08'}\n",
            "{'user': 'Kirsten Edwards', 'gender': 'Female', 'age': '20', 'address': ' Ocean Springs-MS-39564', 'date': '2020/02/25'}\n",
            "{'user': 'Natalie Perkins', 'gender': 'Female', 'age': '20', 'address': ' Ooltewah-TN-37363', 'date': '2020/02/13'}\n",
            "{'user': 'Ryan Mitchell', 'gender': 'Male', 'age': '38', 'address': ' Port Huron-MI-48060', 'date': '2020/07/11'}\n",
            "{'user': 'Ellia Turner', 'gender': 'Female', 'age': '33', 'address': ' Lemont-IL-60439', 'date': '2020/06/02'}\n",
            "{'user': 'Kate Mason', 'gender': 'Female', 'age': '22', 'address': ' Coram-NY-11727', 'date': '2020/05/28'}\n",
            "{'user': 'Richard Fowler', 'gender': 'Male', 'age': '37', 'address': ' Port Charlotte-FL-33952', 'date': '2020/02/29'}\n",
            "{'user': 'Audrey Stevens', 'gender': 'Female', 'age': '20', 'address': ' Shrewsbury-MA-1545', 'date': '2020/02/03'}\n",
            "{'user': 'Deanna Williams', 'gender': 'Female', 'age': '54', 'address': ' Indianapolis-IN-46201', 'date': '2020/05/09'}\n",
            "{'user': 'Daisy Harrison', 'gender': 'Female', 'age': '19', 'address': ' Newnan-GA-30263', 'date': '2020/02/20'}\n",
            "{'user': 'Harold Robinson', 'gender': 'Male', 'age': '29', 'address': ' Ottumwa-IA-52501', 'date': '2020/02/12'}\n",
            "{'user': 'Lucia Carroll', 'gender': 'Female', 'age': '25', 'address': ' Parlin-NJ-8859', 'date': '2020/04/25'}\n",
            "{'user': 'Bruce Harris', 'gender': 'Male', 'age': '45', 'address': ' Warren-MI-48089', 'date': '2020/08/19'}\n",
            "{'user': 'Arthur Carter', 'gender': 'Male', 'age': '37', 'address': ' Indian Trail-NC-28079', 'date': '2020/02/03'}\n",
            "{'user': 'Aldus Baker', 'gender': 'Male', 'age': '34', 'address': ' Paramus-NJ-7652', 'date': '2020/06/24'}\n",
            "{'user': 'Sabrina Holmes', 'gender': 'Female', 'age': '45', 'address': ' Blackwood-NJ-8012', 'date': '2020/05/01'}\n",
            "{'user': 'Haris Hamilton', 'gender': 'Male', 'age': '17', 'address': ' Hanover Park-IL-60133', 'date': '2020/07/17'}\n",
            "{'user': 'Jordan Edwards', 'gender': 'Male', 'age': '18', 'address': ' Barberton-OH-44203', 'date': '2020/06/23'}\n",
            "{'user': 'William Tucker', 'gender': 'Male', 'age': '37', 'address': ' Merrimack-NH-3054', 'date': '2020/07/23'}\n",
            "{'user': 'Miley Stevens', 'gender': 'Female', 'age': '37', 'address': ' Hope Mills-NC-28348', 'date': '2020/05/17'}\n",
            "{'user': 'Miller Brooks', 'gender': 'Male', 'age': '18', 'address': ' Lake Zurich-IL-60047', 'date': '2020/02/29'}\n",
            "{'user': 'Kimberly Morris', 'gender': 'Female', 'age': '23', 'address': ' Delray Beach-FL-33445', 'date': '2020/02/16'}\n",
            "{'user': 'Alisa Morgan', 'gender': 'Female', 'age': '25', 'address': ' Nottingham-MD-21236', 'date': '2020/08/30'}\n",
            "{'user': 'William Richardson', 'gender': 'Male', 'age': '17', 'address': ' Loxahatchee-FL-33470', 'date': '2020/03/23'}\n",
            "{'user': 'Vanessa Richards', 'gender': 'Female', 'age': '15', 'address': ' North Royalton-OH-44133', 'date': '2020/03/19'}\n",
            "{'user': 'Kevin Kelly', 'gender': 'Male', 'age': '55', 'address': ' Philadelphia-PA-19111', 'date': '2020/03/20'}\n",
            "{'user': 'Alissa Wells', 'gender': 'Female', 'age': '48', 'address': ' Attleboro-MA-2703', 'date': '2020/05/13'}\n",
            "{'user': 'Tiana Kelley', 'gender': 'Female', 'age': '16', 'address': ' Smyrna-GA-30080', 'date': '2020/06/02'}\n",
            "{'user': 'Victor Farrell', 'gender': 'Male', 'age': '45', 'address': ' Englishtown-NJ-7726', 'date': '2020/01/16'}\n",
            "{'user': 'Kelsey West', 'gender': 'Female', 'age': '35', 'address': ' Ellicott City-MD-21042', 'date': '2020/05/23'}\n",
            "{'user': 'Daisy Perkins', 'gender': 'Female', 'age': '47', 'address': ' Oxnard-CA-93035', 'date': '2020/05/30'}\n",
            "{'user': 'Chester Johnson', 'gender': 'Male', 'age': '53', 'address': ' Elgin-IL-60120', 'date': '2020/01/10'}\n",
            "{'user': 'Fiona Walker', 'gender': 'Female', 'age': '39', 'address': ' Eastpointe-MI-48021', 'date': '2020/08/25'}\n",
            "{'user': 'Samantha Hill', 'gender': 'Female', 'age': '44', 'address': ' Union-NJ-7083', 'date': '2020/03/18'}\n",
            "{'user': 'Jack Sullivan', 'gender': 'Male', 'age': '51', 'address': ' Allen Park-MI-48101', 'date': '2020/06/04'}\n",
            "{'user': 'Frederick Phillips', 'gender': 'Male', 'age': '21', 'address': ' Central Islip-NY-11722', 'date': '2020/02/10'}\n",
            "{'user': 'Frederick Armstrong', 'gender': 'Male', 'age': '36', 'address': ' Severna Park-MD-21146', 'date': '2020/07/16'}\n",
            "{'user': 'Kelsey Brown', 'gender': 'Female', 'age': '24', 'address': ' Goldsboro-NC-27530', 'date': '2020/03/17'}\n",
            "{'user': 'Kimberly Barnes', 'gender': 'Female', 'age': '49', 'address': ' Neptune-NJ-7753', 'date': '2020/08/16'}\n",
            "{'user': 'Carina Gibson', 'gender': 'Female', 'age': '29', 'address': ' Mays Landing-NJ-8330', 'date': '2020/01/05'}\n",
            "{'user': 'Naomi Morgan', 'gender': 'Female', 'age': '33', 'address': ' Hazleton-PA-18201', 'date': '2020/06/12'}\n",
            "{'user': 'Freddie Richards', 'gender': 'Male', 'age': '44', 'address': ' Cartersville-GA-30120', 'date': '2020/04/19'}\n",
            "{'user': 'Emma Wright', 'gender': 'Female', 'age': '45', 'address': ' Quincy-MA-2169', 'date': '2020/02/02'}\n",
            "{'user': 'Natalie Ferguson', 'gender': 'Female', 'age': '36', 'address': ' Chicago-IL-60621', 'date': '2020/03/02'}\n",
            "{'user': 'Briony Carter', 'gender': 'Female', 'age': '25', 'address': ' Ocoee-FL-34761', 'date': '2020/07/02'}\n",
            "{'user': 'Rosie Williams', 'gender': 'Female', 'age': '20', 'address': ' Brookline-MA-2446', 'date': '2020/01/22'}\n"
          ]
        }
      ]
    },
    {
      "cell_type": "markdown",
      "source": [
        "#### Variations on function\n",
        "\n",
        "Possible variations include the options below:"
      ],
      "metadata": {
        "id": "OfgTFJ1jNhIO"
      }
    },
    {
      "cell_type": "code",
      "source": [
        "def process_one(x):  # note, this is not a class, so we omit the `self` reference\n",
        "  \"\"\"\n",
        "  :return: a dictionary of key-value pairs\n",
        "  \"\"\"\n",
        "  x = x.split(',')\n",
        "  return {'user': x[0], 'gender': x[1], 'age': x[2], 'address': x[3], 'date': x[4]}\n",
        "\n",
        "\n",
        "def process_two(x):\n",
        "  \"\"\"\n",
        "  :return: a list of values (it is ordered so you can just keep track of the indices\n",
        "  through your code  and you are good)\n",
        "  \"\"\"\n",
        "  return x.split(',')\n",
        "\n",
        "\n",
        "print(process_one(\"Amy Sullivan,Female,20, Westlake-OH-44145,2020/08/31\"))\n",
        "print(process_two(\"Amy Sullivan,Female,20, Westlake-OH-44145,2020/08/31\"))\n"
      ],
      "metadata": {
        "id": "PWeLDXyzAogN",
        "colab": {
          "base_uri": "https://localhost:8080/"
        },
        "outputId": "4ef69024-6a08-42cd-c740-d398fa93d4ae"
      },
      "execution_count": null,
      "outputs": [
        {
          "output_type": "stream",
          "name": "stdout",
          "text": [
            "{'user': 'Amy Sullivan', 'gender': 'Female', 'age': '20', 'address': ' Westlake-OH-44145', 'date': '2020/08/31'}\n",
            "['Amy Sullivan', 'Female', '20', ' Westlake-OH-44145', '2020/08/31']\n"
          ]
        }
      ]
    },
    {
      "cell_type": "markdown",
      "source": [
        "### Task 1.3\n",
        "\n",
        ">  Perform a transform to change the date format as required"
      ],
      "metadata": {
        "id": "2NxOqDDgNw-b"
      }
    },
    {
      "cell_type": "markdown",
      "source": [
        "#### A Correct Answer\n",
        "\n",
        "We simply modify the function in the transform class (namely `process`), or we may add another function.\n",
        "\n",
        "It is pleasant to isolate functionality and responsibility to functions, so we will take that route.\n",
        "\n",
        "We are also going to use the python `datetime` class as it is best practice (it will fail if a date string is invalid thus alerting you to issues in your data). However, you could have used simple string replacement; this would just be a little less robust/easy to debug in the event of failure.\n",
        "\n",
        "Using the datetime approach:\n",
        "```\n",
        "datetime.strptime('2020-02-01', '%Y-%m-%d')\n",
        "```\n",
        "produces an object\n",
        "```\n",
        "datetime.datetime(2020, 2, 1, 0, 0)\n",
        "```\n",
        "\n",
        "Otherwise, you will get a nice error saying your date is in the incorrect format.\n",
        "\n",
        "We will then convert it back into a string (crazy, yes, it may seem so, but with dirtier data, this could be handy).\n",
        "\n",
        "```\n",
        "datetime.strptime('2020-02-01', '%Y-%m-%d').strftime('%Y/%m/%d')\n",
        "```\n",
        "\n"
      ],
      "metadata": {
        "id": "FxqgvllGN8z9"
      }
    },
    {
      "cell_type": "code",
      "source": [
        "from datetime import datetime\n",
        "\n",
        "user_header = ['User', 'Gender', 'Age', 'Address', 'Date joined']\n",
        "\n",
        "\n",
        "class Transform(beam.DoFn):\n",
        "\n",
        "  def process(self, element):\n",
        "    data = dict(zip(user_header, element.split(',')))\n",
        "    # if the header is included in the pcollection, simply return it else we get\n",
        "    # a failure on our date conversion\n",
        "    if list(data.values()) == user_header:\n",
        "      yield data\n",
        "    else:\n",
        "      data['Date joined'] = self.format_date(data['Date joined'])\n",
        "      yield data\n",
        "\n",
        "\n",
        "  def format_date(self, value):\n",
        "    \"\"\"\n",
        "    :param value: receive a value that we assume is a date\n",
        "    :return: a format validated formatted date string\n",
        "    \"\"\"\n",
        "    return datetime.strptime(value, '%Y/%m/%d').strftime('%Y-%m-%d')\n",
        "\n",
        "\n",
        "\n",
        "with beam.Pipeline() as pipeline:\n",
        "  (pipeline\n",
        "      | 'Read lines' >> beam.io.ReadFromText('users.csv')\n",
        "      | 'format line' >> beam.ParDo(Transform())\n",
        "      | \"print\" >> beam.Map(print)\n",
        "  )\n"
      ],
      "metadata": {
        "id": "asU4FAJGNzsj",
        "colab": {
          "base_uri": "https://localhost:8080/"
        },
        "outputId": "18ba1ed9-33d8-4aed-f13a-59c1a928690a"
      },
      "execution_count": null,
      "outputs": [
        {
          "output_type": "stream",
          "name": "stdout",
          "text": [
            "{'User': 'User', 'Gender': 'Gender', 'Age': 'Age', 'Address': 'Address', 'Date joined': 'Date joined'}\n",
            "{'User': 'Amy Sullivan', 'Gender': 'Female', 'Age': '20', 'Address': ' Westlake-OH-44145', 'Date joined': '2020-08-31'}\n",
            "{'User': 'Paige Dixon', 'Gender': 'Female', 'Age': '43', 'Address': ' Hicksville-NY-11801', 'Date joined': '2020-03-22'}\n",
            "{'User': 'Valeria Hamilton', 'Gender': 'Female', 'Age': '54', 'Address': ' Meriden-CT-6450', 'Date joined': '2020-05-28'}\n",
            "{'User': 'Justin Robinson', 'Gender': 'Male', 'Age': '35', 'Address': ' Auburn-NY-13021', 'Date joined': '2020-04-04'}\n",
            "{'User': 'Frederick Barnes', 'Gender': 'Male', 'Age': '48', 'Address': ' Ridgewood-NJ-7450', 'Date joined': '2020-05-12'}\n",
            "{'User': 'Lydia Kelly', 'Gender': 'Female', 'Age': '38', 'Address': ' Omaha-NE-68107', 'Date joined': '2020-04-17'}\n",
            "{'User': 'Wilson Riley', 'Gender': 'Male', 'Age': '39', 'Address': ' Newton-NJ-7860', 'Date joined': '2020-02-02'}\n",
            "{'User': 'Arthur Reed', 'Gender': 'Male', 'Age': '32', 'Address': ' Hobart-IN-46342', 'Date joined': '2020-08-01'}\n",
            "{'User': 'Preston Nelson', 'Gender': 'Male', 'Age': '29', 'Address': ' Long Beach-NY-11561', 'Date joined': '2020-01-25'}\n",
            "{'User': 'Haris Watson', 'Gender': 'Male', 'Age': '29', 'Address': ' Hamilton-OH-45011', 'Date joined': '2020-02-06'}\n",
            "{'User': 'Sam Martin', 'Gender': 'Male', 'Age': '44', 'Address': ' Ankeny-IA-50023', 'Date joined': '2020-04-08'}\n",
            "{'User': 'Lucy Campbell', 'Gender': 'Female', 'Age': '24', 'Address': ' Bolingbrook-IL-60440', 'Date joined': '2020-05-15'}\n",
            "{'User': 'Adrian Wright', 'Gender': 'Male', 'Age': '54', 'Address': ' Ashburn-VA-20147', 'Date joined': '2020-08-27'}\n",
            "{'User': 'Chloe Smith', 'Gender': 'Female', 'Age': '40', 'Address': ' Battle Ground-WA-98604', 'Date joined': '2020-04-30'}\n",
            "{'User': 'William Owens', 'Gender': 'Male', 'Age': '20', 'Address': ' Goshen-IN-46526', 'Date joined': '2020-07-10'}\n",
            "{'User': 'Vivian Farrell', 'Gender': 'Female', 'Age': '42', 'Address': ' Lincoln Park-MI-48146', 'Date joined': '2020-01-23'}\n",
            "{'User': 'Brad Hamilton', 'Gender': 'Male', 'Age': '48', 'Address': ' Crofton-MD-21114', 'Date joined': '2020-06-23'}\n",
            "{'User': 'Rosie Adams', 'Gender': 'Female', 'Age': '48', 'Address': ' New City-NY-10956', 'Date joined': '2020-01-22'}\n",
            "{'User': 'Victoria Richardson', 'Gender': 'Female', 'Age': '47', 'Address': ' Thibodaux-LA-70301', 'Date joined': '2020-03-12'}\n",
            "{'User': 'Michael Sullivan', 'Gender': 'Male', 'Age': '52', 'Address': ' Helena-MT-59601', 'Date joined': '2020-02-24'}\n",
            "{'User': 'Andrew Douglas', 'Gender': 'Male', 'Age': '36', 'Address': ' Staunton-VA-24401', 'Date joined': '2020-01-31'}\n",
            "{'User': 'Ted Owens', 'Gender': 'Male', 'Age': '51', 'Address': ' Shepherdsville-KY-40165', 'Date joined': '2020-02-29'}\n",
            "{'User': 'Sawyer Andrews', 'Gender': 'Male', 'Age': '21', 'Address': ' Frederick-MD-21701', 'Date joined': '2020-08-13'}\n",
            "{'User': 'Heather Russell', 'Gender': 'Female', 'Age': '17', 'Address': ' Chippewa Falls-WI-54729', 'Date joined': '2020-08-20'}\n",
            "{'User': 'Edith Harper', 'Gender': 'Female', 'Age': '55', 'Address': ' Ithaca-NY-14850', 'Date joined': '2020-03-28'}\n",
            "{'User': 'Rosie Stevens', 'Gender': 'Female', 'Age': '42', 'Address': ' Corpus Christi-TX-78418', 'Date joined': '2020-03-11'}\n",
            "{'User': 'Jack Richardson', 'Gender': 'Male', 'Age': '23', 'Address': ' Bridgeport-CT-6606', 'Date joined': '2020-07-08'}\n",
            "{'User': 'Paul Casey', 'Gender': 'Male', 'Age': '48', 'Address': ' Phillipsburg-NJ-8865', 'Date joined': '2020-07-07'}\n",
            "{'User': 'Eddy Reed', 'Gender': 'Male', 'Age': '45', 'Address': ' Elizabeth-NJ-7202', 'Date joined': '2020-02-06'}\n",
            "{'User': 'Agata Mason', 'Gender': 'Female', 'Age': '27', 'Address': ' Farmingdale-NY-11735', 'Date joined': '2020-05-25'}\n",
            "{'User': 'Vincent Gibson', 'Gender': 'Male', 'Age': '34', 'Address': ' Rolling Meadows-IL-60008', 'Date joined': '2020-06-02'}\n",
            "{'User': 'Preston Stevens', 'Gender': 'Male', 'Age': '25', 'Address': ' Pembroke Pines-FL-33028', 'Date joined': '2020-04-06'}\n",
            "{'User': 'Vanessa Morris', 'Gender': 'Female', 'Age': '21', 'Address': ' Davison-MI-48423', 'Date joined': '2020-06-17'}\n",
            "{'User': 'Alfred Russell', 'Gender': 'Male', 'Age': '49', 'Address': ' Summerfield-FL-34491', 'Date joined': '2020-07-08'}\n",
            "{'User': 'Julian Wright', 'Gender': 'Male', 'Age': '31', 'Address': ' Victoria-TX-77904', 'Date joined': '2020-08-17'}\n",
            "{'User': 'William Edwards', 'Gender': 'Male', 'Age': '41', 'Address': ' Summerville-SC-29483', 'Date joined': '2020-05-25'}\n",
            "{'User': 'Ashton Anderson', 'Gender': 'Male', 'Age': '29', 'Address': ' Council Bluffs-IA-51501', 'Date joined': '2020-08-11'}\n",
            "{'User': 'Carlos Russell', 'Gender': 'Male', 'Age': '30', 'Address': ' Alliance-OH-44601', 'Date joined': '2020-08-22'}\n",
            "{'User': 'Catherine Johnston', 'Gender': 'Female', 'Age': '42', 'Address': ' Chaska-MN-55318', 'Date joined': '2020-08-12'}\n",
            "{'User': 'Grace Robinson', 'Gender': 'Female', 'Age': '53', 'Address': ' Lake Mary-FL-32746', 'Date joined': '2020-01-15'}\n",
            "{'User': 'Chester Dixon', 'Gender': 'Male', 'Age': '53', 'Address': ' Middleton-WI-53562', 'Date joined': '2020-07-27'}\n",
            "{'User': 'Sophia Hunt', 'Gender': 'Female', 'Age': '49', 'Address': ' Kingston-NY-12401', 'Date joined': '2020-05-21'}\n",
            "{'User': 'Isabella Johnston', 'Gender': 'Female', 'Age': '46', 'Address': ' Union City-NJ-7087', 'Date joined': '2020-01-16'}\n",
            "{'User': 'Amelia Warren', 'Gender': 'Female', 'Age': '22', 'Address': ' Roy-UT-84067', 'Date joined': '2020-02-27'}\n",
            "{'User': 'Aldus Moore', 'Gender': 'Male', 'Age': '55', 'Address': ' Wooster-OH-44691', 'Date joined': '2020-03-16'}\n",
            "{'User': 'Gianna Gibson', 'Gender': 'Female', 'Age': '42', 'Address': ' Champaign-IL-61821', 'Date joined': '2020-07-31'}\n",
            "{'User': 'Clark West', 'Gender': 'Male', 'Age': '50', 'Address': ' Aberdeen-SD-57401', 'Date joined': '2020-03-21'}\n",
            "{'User': 'Roman Wells', 'Gender': 'Male', 'Age': '36', 'Address': ' Wantagh-NY-11793', 'Date joined': '2020-04-29'}\n",
            "{'User': 'Vanessa Davis', 'Gender': 'Female', 'Age': '20', 'Address': ' Colorado Springs-CO-80911', 'Date joined': '2020-05-05'}\n",
            "{'User': 'Tara Anderson', 'Gender': 'Female', 'Age': '42', 'Address': ' Pelham-AL-35124', 'Date joined': '2020-01-05'}\n",
            "{'User': 'Tony Wilson', 'Gender': 'Male', 'Age': '25', 'Address': ' Rocky Mount-NC-27804', 'Date joined': '2020-06-18'}\n",
            "{'User': 'Oliver Sullivan', 'Gender': 'Male', 'Age': '55', 'Address': ' Grovetown-GA-30813', 'Date joined': '2020-03-03'}\n",
            "{'User': 'Eleanor Ryan', 'Gender': 'Female', 'Age': '25', 'Address': ' Winchester-VA-22601', 'Date joined': '2020-08-26'}\n",
            "{'User': 'Kate Thomas', 'Gender': 'Female', 'Age': '20', 'Address': ' Woodstock-GA-30188', 'Date joined': '2020-03-15'}\n",
            "{'User': 'Alexia Payne', 'Gender': 'Female', 'Age': '25', 'Address': ' Buckeye-AZ-85326', 'Date joined': '2020-02-08'}\n",
            "{'User': 'Kirsten Edwards', 'Gender': 'Female', 'Age': '20', 'Address': ' Ocean Springs-MS-39564', 'Date joined': '2020-02-25'}\n",
            "{'User': 'Natalie Perkins', 'Gender': 'Female', 'Age': '20', 'Address': ' Ooltewah-TN-37363', 'Date joined': '2020-02-13'}\n",
            "{'User': 'Ryan Mitchell', 'Gender': 'Male', 'Age': '38', 'Address': ' Port Huron-MI-48060', 'Date joined': '2020-07-11'}\n",
            "{'User': 'Ellia Turner', 'Gender': 'Female', 'Age': '33', 'Address': ' Lemont-IL-60439', 'Date joined': '2020-06-02'}\n",
            "{'User': 'Kate Mason', 'Gender': 'Female', 'Age': '22', 'Address': ' Coram-NY-11727', 'Date joined': '2020-05-28'}\n",
            "{'User': 'Richard Fowler', 'Gender': 'Male', 'Age': '37', 'Address': ' Port Charlotte-FL-33952', 'Date joined': '2020-02-29'}\n",
            "{'User': 'Audrey Stevens', 'Gender': 'Female', 'Age': '20', 'Address': ' Shrewsbury-MA-1545', 'Date joined': '2020-02-03'}\n",
            "{'User': 'Deanna Williams', 'Gender': 'Female', 'Age': '54', 'Address': ' Indianapolis-IN-46201', 'Date joined': '2020-05-09'}\n",
            "{'User': 'Daisy Harrison', 'Gender': 'Female', 'Age': '19', 'Address': ' Newnan-GA-30263', 'Date joined': '2020-02-20'}\n",
            "{'User': 'Harold Robinson', 'Gender': 'Male', 'Age': '29', 'Address': ' Ottumwa-IA-52501', 'Date joined': '2020-02-12'}\n",
            "{'User': 'Lucia Carroll', 'Gender': 'Female', 'Age': '25', 'Address': ' Parlin-NJ-8859', 'Date joined': '2020-04-25'}\n",
            "{'User': 'Bruce Harris', 'Gender': 'Male', 'Age': '45', 'Address': ' Warren-MI-48089', 'Date joined': '2020-08-19'}\n",
            "{'User': 'Arthur Carter', 'Gender': 'Male', 'Age': '37', 'Address': ' Indian Trail-NC-28079', 'Date joined': '2020-02-03'}\n",
            "{'User': 'Aldus Baker', 'Gender': 'Male', 'Age': '34', 'Address': ' Paramus-NJ-7652', 'Date joined': '2020-06-24'}\n",
            "{'User': 'Sabrina Holmes', 'Gender': 'Female', 'Age': '45', 'Address': ' Blackwood-NJ-8012', 'Date joined': '2020-05-01'}\n",
            "{'User': 'Haris Hamilton', 'Gender': 'Male', 'Age': '17', 'Address': ' Hanover Park-IL-60133', 'Date joined': '2020-07-17'}\n",
            "{'User': 'Jordan Edwards', 'Gender': 'Male', 'Age': '18', 'Address': ' Barberton-OH-44203', 'Date joined': '2020-06-23'}\n",
            "{'User': 'William Tucker', 'Gender': 'Male', 'Age': '37', 'Address': ' Merrimack-NH-3054', 'Date joined': '2020-07-23'}\n",
            "{'User': 'Miley Stevens', 'Gender': 'Female', 'Age': '37', 'Address': ' Hope Mills-NC-28348', 'Date joined': '2020-05-17'}\n",
            "{'User': 'Miller Brooks', 'Gender': 'Male', 'Age': '18', 'Address': ' Lake Zurich-IL-60047', 'Date joined': '2020-02-29'}\n",
            "{'User': 'Kimberly Morris', 'Gender': 'Female', 'Age': '23', 'Address': ' Delray Beach-FL-33445', 'Date joined': '2020-02-16'}\n",
            "{'User': 'Alisa Morgan', 'Gender': 'Female', 'Age': '25', 'Address': ' Nottingham-MD-21236', 'Date joined': '2020-08-30'}\n",
            "{'User': 'William Richardson', 'Gender': 'Male', 'Age': '17', 'Address': ' Loxahatchee-FL-33470', 'Date joined': '2020-03-23'}\n",
            "{'User': 'Vanessa Richards', 'Gender': 'Female', 'Age': '15', 'Address': ' North Royalton-OH-44133', 'Date joined': '2020-03-19'}\n",
            "{'User': 'Kevin Kelly', 'Gender': 'Male', 'Age': '55', 'Address': ' Philadelphia-PA-19111', 'Date joined': '2020-03-20'}\n",
            "{'User': 'Alissa Wells', 'Gender': 'Female', 'Age': '48', 'Address': ' Attleboro-MA-2703', 'Date joined': '2020-05-13'}\n",
            "{'User': 'Tiana Kelley', 'Gender': 'Female', 'Age': '16', 'Address': ' Smyrna-GA-30080', 'Date joined': '2020-06-02'}\n",
            "{'User': 'Victor Farrell', 'Gender': 'Male', 'Age': '45', 'Address': ' Englishtown-NJ-7726', 'Date joined': '2020-01-16'}\n",
            "{'User': 'Kelsey West', 'Gender': 'Female', 'Age': '35', 'Address': ' Ellicott City-MD-21042', 'Date joined': '2020-05-23'}\n",
            "{'User': 'Daisy Perkins', 'Gender': 'Female', 'Age': '47', 'Address': ' Oxnard-CA-93035', 'Date joined': '2020-05-30'}\n",
            "{'User': 'Chester Johnson', 'Gender': 'Male', 'Age': '53', 'Address': ' Elgin-IL-60120', 'Date joined': '2020-01-10'}\n",
            "{'User': 'Fiona Walker', 'Gender': 'Female', 'Age': '39', 'Address': ' Eastpointe-MI-48021', 'Date joined': '2020-08-25'}\n",
            "{'User': 'Samantha Hill', 'Gender': 'Female', 'Age': '44', 'Address': ' Union-NJ-7083', 'Date joined': '2020-03-18'}\n",
            "{'User': 'Jack Sullivan', 'Gender': 'Male', 'Age': '51', 'Address': ' Allen Park-MI-48101', 'Date joined': '2020-06-04'}\n",
            "{'User': 'Frederick Phillips', 'Gender': 'Male', 'Age': '21', 'Address': ' Central Islip-NY-11722', 'Date joined': '2020-02-10'}\n",
            "{'User': 'Frederick Armstrong', 'Gender': 'Male', 'Age': '36', 'Address': ' Severna Park-MD-21146', 'Date joined': '2020-07-16'}\n",
            "{'User': 'Kelsey Brown', 'Gender': 'Female', 'Age': '24', 'Address': ' Goldsboro-NC-27530', 'Date joined': '2020-03-17'}\n",
            "{'User': 'Kimberly Barnes', 'Gender': 'Female', 'Age': '49', 'Address': ' Neptune-NJ-7753', 'Date joined': '2020-08-16'}\n",
            "{'User': 'Carina Gibson', 'Gender': 'Female', 'Age': '29', 'Address': ' Mays Landing-NJ-8330', 'Date joined': '2020-01-05'}\n",
            "{'User': 'Naomi Morgan', 'Gender': 'Female', 'Age': '33', 'Address': ' Hazleton-PA-18201', 'Date joined': '2020-06-12'}\n",
            "{'User': 'Freddie Richards', 'Gender': 'Male', 'Age': '44', 'Address': ' Cartersville-GA-30120', 'Date joined': '2020-04-19'}\n",
            "{'User': 'Emma Wright', 'Gender': 'Female', 'Age': '45', 'Address': ' Quincy-MA-2169', 'Date joined': '2020-02-02'}\n",
            "{'User': 'Natalie Ferguson', 'Gender': 'Female', 'Age': '36', 'Address': ' Chicago-IL-60621', 'Date joined': '2020-03-02'}\n",
            "{'User': 'Briony Carter', 'Gender': 'Female', 'Age': '25', 'Address': ' Ocoee-FL-34761', 'Date joined': '2020-07-02'}\n",
            "{'User': 'Rosie Williams', 'Gender': 'Female', 'Age': '20', 'Address': ' Brookline-MA-2446', 'Date joined': '2020-01-22'}\n"
          ]
        }
      ]
    },
    {
      "cell_type": "markdown",
      "source": [
        "#### Variations on Function\n",
        "\n",
        "We could have specified the `format_date` function differently. Interestingly, you would not have noticed when parsing the header of the file since `value.replace('-', '/')` would simply make no modifications to the string.\n",
        "\n"
      ],
      "metadata": {
        "id": "TK8sNbnWOBOg"
      }
    },
    {
      "cell_type": "code",
      "source": [
        "def format_date(value):\n",
        "  return value.replace('-', '/')\n",
        "\n",
        "format_date('2020-02-01')"
      ],
      "metadata": {
        "id": "gI7ag4tCODom",
        "colab": {
          "base_uri": "https://localhost:8080/",
          "height": 35
        },
        "outputId": "1aff3bad-8542-4249-c367-be10d659ddd6"
      },
      "execution_count": null,
      "outputs": [
        {
          "output_type": "execute_result",
          "data": {
            "text/plain": [
              "'2020/02/01'"
            ],
            "application/vnd.google.colaboratory.intrinsic+json": {
              "type": "string"
            }
          },
          "metadata": {},
          "execution_count": 6
        }
      ]
    },
    {
      "cell_type": "markdown",
      "source": [
        "### Task 1.4\n",
        "\n",
        "> Perform a transform to change the address format as required\n",
        "\n"
      ],
      "metadata": {
        "id": "o-VPlxZgOIDg"
      }
    },
    {
      "cell_type": "code",
      "source": [
        "from datetime import datetime\n",
        "\n",
        "user_header = ['User', 'Gender', 'Age', 'Address', 'Date joined']\n",
        "\n",
        "\n",
        "class Transform(beam.DoFn):\n",
        "\n",
        "  def process(self, element):\n",
        "    data = dict(zip(user_header, element.split(',')))\n",
        "    # if the header is included in the pcollection, simply return it else we get\n",
        "    # a failure on our date conversion\n",
        "    if list(data.values()) == user_header:\n",
        "      yield data\n",
        "    else:\n",
        "      data['Date joined'] = self.format_date(data['Date joined'])\n",
        "      data['Address'] = self.format_address(data['Address'])\n",
        "      yield data\n",
        "\n",
        "\n",
        "  def format_date(self, value):\n",
        "    \"\"\"\n",
        "    :param value: receive a value that we assume is a date\n",
        "    :return: a format validated formatted date string\n",
        "    \"\"\"\n",
        "    return datetime.strptime(value, '%Y/%m/%d').strftime('%Y-%m-%d')\n",
        "\n",
        "  def format_address(self, value):\n",
        "    \"\"\"\n",
        "    perform necessary operations on address to get it into the correct format\n",
        "    \"\"\"\n",
        "    # noticed that there is a space before the address, so cleaning that\n",
        "    # up too\n",
        "    return value.replace('-', ',').strip(' ')\n",
        "\n",
        "\n",
        "\n",
        "with beam.Pipeline() as pipeline:\n",
        "  (pipeline\n",
        "      | 'Read lines' >> beam.io.ReadFromText('users.csv')\n",
        "      | 'format line' >> beam.ParDo(Transform())\n",
        "      | \"print\" >> beam.Map(print)\n",
        "  )\n"
      ],
      "metadata": {
        "id": "0JPrGK-qOJfa",
        "colab": {
          "base_uri": "https://localhost:8080/"
        },
        "outputId": "6b48c05b-78f0-4a1b-efad-fa008957e382"
      },
      "execution_count": null,
      "outputs": [
        {
          "output_type": "stream",
          "name": "stdout",
          "text": [
            "{'User': 'User', 'Gender': 'Gender', 'Age': 'Age', 'Address': 'Address', 'Date joined': 'Date joined'}\n",
            "{'User': 'Amy Sullivan', 'Gender': 'Female', 'Age': '20', 'Address': 'Westlake,OH,44145', 'Date joined': '2020-08-31'}\n",
            "{'User': 'Paige Dixon', 'Gender': 'Female', 'Age': '43', 'Address': 'Hicksville,NY,11801', 'Date joined': '2020-03-22'}\n",
            "{'User': 'Valeria Hamilton', 'Gender': 'Female', 'Age': '54', 'Address': 'Meriden,CT,6450', 'Date joined': '2020-05-28'}\n",
            "{'User': 'Justin Robinson', 'Gender': 'Male', 'Age': '35', 'Address': 'Auburn,NY,13021', 'Date joined': '2020-04-04'}\n",
            "{'User': 'Frederick Barnes', 'Gender': 'Male', 'Age': '48', 'Address': 'Ridgewood,NJ,7450', 'Date joined': '2020-05-12'}\n",
            "{'User': 'Lydia Kelly', 'Gender': 'Female', 'Age': '38', 'Address': 'Omaha,NE,68107', 'Date joined': '2020-04-17'}\n",
            "{'User': 'Wilson Riley', 'Gender': 'Male', 'Age': '39', 'Address': 'Newton,NJ,7860', 'Date joined': '2020-02-02'}\n",
            "{'User': 'Arthur Reed', 'Gender': 'Male', 'Age': '32', 'Address': 'Hobart,IN,46342', 'Date joined': '2020-08-01'}\n",
            "{'User': 'Preston Nelson', 'Gender': 'Male', 'Age': '29', 'Address': 'Long Beach,NY,11561', 'Date joined': '2020-01-25'}\n",
            "{'User': 'Haris Watson', 'Gender': 'Male', 'Age': '29', 'Address': 'Hamilton,OH,45011', 'Date joined': '2020-02-06'}\n",
            "{'User': 'Sam Martin', 'Gender': 'Male', 'Age': '44', 'Address': 'Ankeny,IA,50023', 'Date joined': '2020-04-08'}\n",
            "{'User': 'Lucy Campbell', 'Gender': 'Female', 'Age': '24', 'Address': 'Bolingbrook,IL,60440', 'Date joined': '2020-05-15'}\n",
            "{'User': 'Adrian Wright', 'Gender': 'Male', 'Age': '54', 'Address': 'Ashburn,VA,20147', 'Date joined': '2020-08-27'}\n",
            "{'User': 'Chloe Smith', 'Gender': 'Female', 'Age': '40', 'Address': 'Battle Ground,WA,98604', 'Date joined': '2020-04-30'}\n",
            "{'User': 'William Owens', 'Gender': 'Male', 'Age': '20', 'Address': 'Goshen,IN,46526', 'Date joined': '2020-07-10'}\n",
            "{'User': 'Vivian Farrell', 'Gender': 'Female', 'Age': '42', 'Address': 'Lincoln Park,MI,48146', 'Date joined': '2020-01-23'}\n",
            "{'User': 'Brad Hamilton', 'Gender': 'Male', 'Age': '48', 'Address': 'Crofton,MD,21114', 'Date joined': '2020-06-23'}\n",
            "{'User': 'Rosie Adams', 'Gender': 'Female', 'Age': '48', 'Address': 'New City,NY,10956', 'Date joined': '2020-01-22'}\n",
            "{'User': 'Victoria Richardson', 'Gender': 'Female', 'Age': '47', 'Address': 'Thibodaux,LA,70301', 'Date joined': '2020-03-12'}\n",
            "{'User': 'Michael Sullivan', 'Gender': 'Male', 'Age': '52', 'Address': 'Helena,MT,59601', 'Date joined': '2020-02-24'}\n",
            "{'User': 'Andrew Douglas', 'Gender': 'Male', 'Age': '36', 'Address': 'Staunton,VA,24401', 'Date joined': '2020-01-31'}\n",
            "{'User': 'Ted Owens', 'Gender': 'Male', 'Age': '51', 'Address': 'Shepherdsville,KY,40165', 'Date joined': '2020-02-29'}\n",
            "{'User': 'Sawyer Andrews', 'Gender': 'Male', 'Age': '21', 'Address': 'Frederick,MD,21701', 'Date joined': '2020-08-13'}\n",
            "{'User': 'Heather Russell', 'Gender': 'Female', 'Age': '17', 'Address': 'Chippewa Falls,WI,54729', 'Date joined': '2020-08-20'}\n",
            "{'User': 'Edith Harper', 'Gender': 'Female', 'Age': '55', 'Address': 'Ithaca,NY,14850', 'Date joined': '2020-03-28'}\n",
            "{'User': 'Rosie Stevens', 'Gender': 'Female', 'Age': '42', 'Address': 'Corpus Christi,TX,78418', 'Date joined': '2020-03-11'}\n",
            "{'User': 'Jack Richardson', 'Gender': 'Male', 'Age': '23', 'Address': 'Bridgeport,CT,6606', 'Date joined': '2020-07-08'}\n",
            "{'User': 'Paul Casey', 'Gender': 'Male', 'Age': '48', 'Address': 'Phillipsburg,NJ,8865', 'Date joined': '2020-07-07'}\n",
            "{'User': 'Eddy Reed', 'Gender': 'Male', 'Age': '45', 'Address': 'Elizabeth,NJ,7202', 'Date joined': '2020-02-06'}\n",
            "{'User': 'Agata Mason', 'Gender': 'Female', 'Age': '27', 'Address': 'Farmingdale,NY,11735', 'Date joined': '2020-05-25'}\n",
            "{'User': 'Vincent Gibson', 'Gender': 'Male', 'Age': '34', 'Address': 'Rolling Meadows,IL,60008', 'Date joined': '2020-06-02'}\n",
            "{'User': 'Preston Stevens', 'Gender': 'Male', 'Age': '25', 'Address': 'Pembroke Pines,FL,33028', 'Date joined': '2020-04-06'}\n",
            "{'User': 'Vanessa Morris', 'Gender': 'Female', 'Age': '21', 'Address': 'Davison,MI,48423', 'Date joined': '2020-06-17'}\n",
            "{'User': 'Alfred Russell', 'Gender': 'Male', 'Age': '49', 'Address': 'Summerfield,FL,34491', 'Date joined': '2020-07-08'}\n",
            "{'User': 'Julian Wright', 'Gender': 'Male', 'Age': '31', 'Address': 'Victoria,TX,77904', 'Date joined': '2020-08-17'}\n",
            "{'User': 'William Edwards', 'Gender': 'Male', 'Age': '41', 'Address': 'Summerville,SC,29483', 'Date joined': '2020-05-25'}\n",
            "{'User': 'Ashton Anderson', 'Gender': 'Male', 'Age': '29', 'Address': 'Council Bluffs,IA,51501', 'Date joined': '2020-08-11'}\n",
            "{'User': 'Carlos Russell', 'Gender': 'Male', 'Age': '30', 'Address': 'Alliance,OH,44601', 'Date joined': '2020-08-22'}\n",
            "{'User': 'Catherine Johnston', 'Gender': 'Female', 'Age': '42', 'Address': 'Chaska,MN,55318', 'Date joined': '2020-08-12'}\n",
            "{'User': 'Grace Robinson', 'Gender': 'Female', 'Age': '53', 'Address': 'Lake Mary,FL,32746', 'Date joined': '2020-01-15'}\n",
            "{'User': 'Chester Dixon', 'Gender': 'Male', 'Age': '53', 'Address': 'Middleton,WI,53562', 'Date joined': '2020-07-27'}\n",
            "{'User': 'Sophia Hunt', 'Gender': 'Female', 'Age': '49', 'Address': 'Kingston,NY,12401', 'Date joined': '2020-05-21'}\n",
            "{'User': 'Isabella Johnston', 'Gender': 'Female', 'Age': '46', 'Address': 'Union City,NJ,7087', 'Date joined': '2020-01-16'}\n",
            "{'User': 'Amelia Warren', 'Gender': 'Female', 'Age': '22', 'Address': 'Roy,UT,84067', 'Date joined': '2020-02-27'}\n",
            "{'User': 'Aldus Moore', 'Gender': 'Male', 'Age': '55', 'Address': 'Wooster,OH,44691', 'Date joined': '2020-03-16'}\n",
            "{'User': 'Gianna Gibson', 'Gender': 'Female', 'Age': '42', 'Address': 'Champaign,IL,61821', 'Date joined': '2020-07-31'}\n",
            "{'User': 'Clark West', 'Gender': 'Male', 'Age': '50', 'Address': 'Aberdeen,SD,57401', 'Date joined': '2020-03-21'}\n",
            "{'User': 'Roman Wells', 'Gender': 'Male', 'Age': '36', 'Address': 'Wantagh,NY,11793', 'Date joined': '2020-04-29'}\n",
            "{'User': 'Vanessa Davis', 'Gender': 'Female', 'Age': '20', 'Address': 'Colorado Springs,CO,80911', 'Date joined': '2020-05-05'}\n",
            "{'User': 'Tara Anderson', 'Gender': 'Female', 'Age': '42', 'Address': 'Pelham,AL,35124', 'Date joined': '2020-01-05'}\n",
            "{'User': 'Tony Wilson', 'Gender': 'Male', 'Age': '25', 'Address': 'Rocky Mount,NC,27804', 'Date joined': '2020-06-18'}\n",
            "{'User': 'Oliver Sullivan', 'Gender': 'Male', 'Age': '55', 'Address': 'Grovetown,GA,30813', 'Date joined': '2020-03-03'}\n",
            "{'User': 'Eleanor Ryan', 'Gender': 'Female', 'Age': '25', 'Address': 'Winchester,VA,22601', 'Date joined': '2020-08-26'}\n",
            "{'User': 'Kate Thomas', 'Gender': 'Female', 'Age': '20', 'Address': 'Woodstock,GA,30188', 'Date joined': '2020-03-15'}\n",
            "{'User': 'Alexia Payne', 'Gender': 'Female', 'Age': '25', 'Address': 'Buckeye,AZ,85326', 'Date joined': '2020-02-08'}\n",
            "{'User': 'Kirsten Edwards', 'Gender': 'Female', 'Age': '20', 'Address': 'Ocean Springs,MS,39564', 'Date joined': '2020-02-25'}\n",
            "{'User': 'Natalie Perkins', 'Gender': 'Female', 'Age': '20', 'Address': 'Ooltewah,TN,37363', 'Date joined': '2020-02-13'}\n",
            "{'User': 'Ryan Mitchell', 'Gender': 'Male', 'Age': '38', 'Address': 'Port Huron,MI,48060', 'Date joined': '2020-07-11'}\n",
            "{'User': 'Ellia Turner', 'Gender': 'Female', 'Age': '33', 'Address': 'Lemont,IL,60439', 'Date joined': '2020-06-02'}\n",
            "{'User': 'Kate Mason', 'Gender': 'Female', 'Age': '22', 'Address': 'Coram,NY,11727', 'Date joined': '2020-05-28'}\n",
            "{'User': 'Richard Fowler', 'Gender': 'Male', 'Age': '37', 'Address': 'Port Charlotte,FL,33952', 'Date joined': '2020-02-29'}\n",
            "{'User': 'Audrey Stevens', 'Gender': 'Female', 'Age': '20', 'Address': 'Shrewsbury,MA,1545', 'Date joined': '2020-02-03'}\n",
            "{'User': 'Deanna Williams', 'Gender': 'Female', 'Age': '54', 'Address': 'Indianapolis,IN,46201', 'Date joined': '2020-05-09'}\n",
            "{'User': 'Daisy Harrison', 'Gender': 'Female', 'Age': '19', 'Address': 'Newnan,GA,30263', 'Date joined': '2020-02-20'}\n",
            "{'User': 'Harold Robinson', 'Gender': 'Male', 'Age': '29', 'Address': 'Ottumwa,IA,52501', 'Date joined': '2020-02-12'}\n",
            "{'User': 'Lucia Carroll', 'Gender': 'Female', 'Age': '25', 'Address': 'Parlin,NJ,8859', 'Date joined': '2020-04-25'}\n",
            "{'User': 'Bruce Harris', 'Gender': 'Male', 'Age': '45', 'Address': 'Warren,MI,48089', 'Date joined': '2020-08-19'}\n",
            "{'User': 'Arthur Carter', 'Gender': 'Male', 'Age': '37', 'Address': 'Indian Trail,NC,28079', 'Date joined': '2020-02-03'}\n",
            "{'User': 'Aldus Baker', 'Gender': 'Male', 'Age': '34', 'Address': 'Paramus,NJ,7652', 'Date joined': '2020-06-24'}\n",
            "{'User': 'Sabrina Holmes', 'Gender': 'Female', 'Age': '45', 'Address': 'Blackwood,NJ,8012', 'Date joined': '2020-05-01'}\n",
            "{'User': 'Haris Hamilton', 'Gender': 'Male', 'Age': '17', 'Address': 'Hanover Park,IL,60133', 'Date joined': '2020-07-17'}\n",
            "{'User': 'Jordan Edwards', 'Gender': 'Male', 'Age': '18', 'Address': 'Barberton,OH,44203', 'Date joined': '2020-06-23'}\n",
            "{'User': 'William Tucker', 'Gender': 'Male', 'Age': '37', 'Address': 'Merrimack,NH,3054', 'Date joined': '2020-07-23'}\n",
            "{'User': 'Miley Stevens', 'Gender': 'Female', 'Age': '37', 'Address': 'Hope Mills,NC,28348', 'Date joined': '2020-05-17'}\n",
            "{'User': 'Miller Brooks', 'Gender': 'Male', 'Age': '18', 'Address': 'Lake Zurich,IL,60047', 'Date joined': '2020-02-29'}\n",
            "{'User': 'Kimberly Morris', 'Gender': 'Female', 'Age': '23', 'Address': 'Delray Beach,FL,33445', 'Date joined': '2020-02-16'}\n",
            "{'User': 'Alisa Morgan', 'Gender': 'Female', 'Age': '25', 'Address': 'Nottingham,MD,21236', 'Date joined': '2020-08-30'}\n",
            "{'User': 'William Richardson', 'Gender': 'Male', 'Age': '17', 'Address': 'Loxahatchee,FL,33470', 'Date joined': '2020-03-23'}\n",
            "{'User': 'Vanessa Richards', 'Gender': 'Female', 'Age': '15', 'Address': 'North Royalton,OH,44133', 'Date joined': '2020-03-19'}\n",
            "{'User': 'Kevin Kelly', 'Gender': 'Male', 'Age': '55', 'Address': 'Philadelphia,PA,19111', 'Date joined': '2020-03-20'}\n",
            "{'User': 'Alissa Wells', 'Gender': 'Female', 'Age': '48', 'Address': 'Attleboro,MA,2703', 'Date joined': '2020-05-13'}\n",
            "{'User': 'Tiana Kelley', 'Gender': 'Female', 'Age': '16', 'Address': 'Smyrna,GA,30080', 'Date joined': '2020-06-02'}\n",
            "{'User': 'Victor Farrell', 'Gender': 'Male', 'Age': '45', 'Address': 'Englishtown,NJ,7726', 'Date joined': '2020-01-16'}\n",
            "{'User': 'Kelsey West', 'Gender': 'Female', 'Age': '35', 'Address': 'Ellicott City,MD,21042', 'Date joined': '2020-05-23'}\n",
            "{'User': 'Daisy Perkins', 'Gender': 'Female', 'Age': '47', 'Address': 'Oxnard,CA,93035', 'Date joined': '2020-05-30'}\n",
            "{'User': 'Chester Johnson', 'Gender': 'Male', 'Age': '53', 'Address': 'Elgin,IL,60120', 'Date joined': '2020-01-10'}\n",
            "{'User': 'Fiona Walker', 'Gender': 'Female', 'Age': '39', 'Address': 'Eastpointe,MI,48021', 'Date joined': '2020-08-25'}\n",
            "{'User': 'Samantha Hill', 'Gender': 'Female', 'Age': '44', 'Address': 'Union,NJ,7083', 'Date joined': '2020-03-18'}\n",
            "{'User': 'Jack Sullivan', 'Gender': 'Male', 'Age': '51', 'Address': 'Allen Park,MI,48101', 'Date joined': '2020-06-04'}\n",
            "{'User': 'Frederick Phillips', 'Gender': 'Male', 'Age': '21', 'Address': 'Central Islip,NY,11722', 'Date joined': '2020-02-10'}\n",
            "{'User': 'Frederick Armstrong', 'Gender': 'Male', 'Age': '36', 'Address': 'Severna Park,MD,21146', 'Date joined': '2020-07-16'}\n",
            "{'User': 'Kelsey Brown', 'Gender': 'Female', 'Age': '24', 'Address': 'Goldsboro,NC,27530', 'Date joined': '2020-03-17'}\n",
            "{'User': 'Kimberly Barnes', 'Gender': 'Female', 'Age': '49', 'Address': 'Neptune,NJ,7753', 'Date joined': '2020-08-16'}\n",
            "{'User': 'Carina Gibson', 'Gender': 'Female', 'Age': '29', 'Address': 'Mays Landing,NJ,8330', 'Date joined': '2020-01-05'}\n",
            "{'User': 'Naomi Morgan', 'Gender': 'Female', 'Age': '33', 'Address': 'Hazleton,PA,18201', 'Date joined': '2020-06-12'}\n",
            "{'User': 'Freddie Richards', 'Gender': 'Male', 'Age': '44', 'Address': 'Cartersville,GA,30120', 'Date joined': '2020-04-19'}\n",
            "{'User': 'Emma Wright', 'Gender': 'Female', 'Age': '45', 'Address': 'Quincy,MA,2169', 'Date joined': '2020-02-02'}\n",
            "{'User': 'Natalie Ferguson', 'Gender': 'Female', 'Age': '36', 'Address': 'Chicago,IL,60621', 'Date joined': '2020-03-02'}\n",
            "{'User': 'Briony Carter', 'Gender': 'Female', 'Age': '25', 'Address': 'Ocoee,FL,34761', 'Date joined': '2020-07-02'}\n",
            "{'User': 'Rosie Williams', 'Gender': 'Female', 'Age': '20', 'Address': 'Brookline,MA,2446', 'Date joined': '2020-01-22'}\n"
          ]
        }
      ]
    },
    {
      "cell_type": "markdown",
      "source": [
        "## Final Answer\n",
        "\n",
        "### Long answer"
      ],
      "metadata": {
        "id": "SQ1wMRhrOMCL"
      }
    },
    {
      "cell_type": "code",
      "source": [
        "from datetime import datetime\n",
        "\n",
        "user_header = ['User', 'Gender', 'Age', 'Address', 'Date joined']\n",
        "\n",
        "\n",
        "class Transform(beam.DoFn):\n",
        "\n",
        "  def process(self, element):\n",
        "    data = dict(zip(user_header, element.split(',')))\n",
        "    # if the header is included in the pcollection, simply return it else we get\n",
        "    # a failure on our date conversion\n",
        "    if list(data.values()) == user_header:\n",
        "      yield data\n",
        "    else:\n",
        "      data['Date joined'] = self.format_date(data['Date joined'])\n",
        "      data['Address'] = self.format_address(data['Address'])\n",
        "      yield data\n",
        "\n",
        "\n",
        "  def format_date(self, value):\n",
        "    \"\"\"\n",
        "    :param value: receive a value that we assume is a date\n",
        "    :return: a format validated formatted date string\n",
        "    \"\"\"\n",
        "    return datetime.strptime(value, '%Y/%m/%d').strftime('%Y-%m-%d')\n",
        "\n",
        "  def format_address(self, value):\n",
        "    \"\"\"\n",
        "    perform necessary operations on address to get it into the correct format\n",
        "    \"\"\"\n",
        "    # noticed that there is a space before the address, so cleaning that\n",
        "    # up too\n",
        "    return value.replace('-', ',').strip(' ')\n",
        "\n",
        "\n",
        "class ToCsv(beam.DoFn):\n",
        "\n",
        "    def process(self, element):\n",
        "      yield ';'.join(dict(element).values())\n",
        "\n",
        "\n",
        "with beam.Pipeline() as pipeline:\n",
        "  (pipeline\n",
        "      | 'Read lines' >> beam.io.ReadFromText('users.csv')\n",
        "      | 'format line' >> beam.ParDo(Transform())\n",
        "      | 'to_csv' >> beam.ParDo(ToCsv())\n",
        "      | \"print\" >> beam.io.WriteToText(outputs_prefix)\n",
        "  )"
      ],
      "metadata": {
        "id": "kRDV5_EFOO1_"
      },
      "execution_count": null,
      "outputs": []
    },
    {
      "cell_type": "markdown",
      "source": [
        "### Short answer"
      ],
      "metadata": {
        "id": "zfHUnRniOSQQ"
      }
    },
    {
      "cell_type": "code",
      "source": [
        "\n",
        "class Transform(beam.DoFn):\n",
        "\n",
        "  def process(self, element):\n",
        "    row_list =  element.split(',')\n",
        "    row_list[4] = row_list[4].replace('/', '-')\n",
        "    row_list[3] = row_list[3].replace('-', ',')\n",
        "    yield ';'.join(row_list)\n",
        "\n",
        "with beam.Pipeline() as pipeline:\n",
        "  (pipeline\n",
        "      | 'Read lines' >> beam.io.ReadFromText('users.csv')\n",
        "      | 'format line' >> beam.ParDo(Transform())\n",
        "      | \"print\" >> beam.Map(print) #beam.io.WriteToText(outputs_prefix)\n",
        "  )"
      ],
      "metadata": {
        "id": "o3tZ_-gXOS6g",
        "colab": {
          "base_uri": "https://localhost:8080/"
        },
        "outputId": "ccf79ed8-7822-4c26-9501-eca3c2c31320"
      },
      "execution_count": null,
      "outputs": [
        {
          "output_type": "stream",
          "name": "stdout",
          "text": [
            "User,Gender,Age,Address,Date joined\n",
            "Amy Sullivan,Female,20, Westlake,OH,44145,2020-08-31\n",
            "Paige Dixon,Female,43, Hicksville,NY,11801,2020-03-22\n",
            "Valeria Hamilton,Female,54, Meriden,CT,6450,2020-05-28\n",
            "Justin Robinson,Male,35, Auburn,NY,13021,2020-04-04\n",
            "Frederick Barnes,Male,48, Ridgewood,NJ,7450,2020-05-12\n",
            "Lydia Kelly,Female,38, Omaha,NE,68107,2020-04-17\n",
            "Wilson Riley,Male,39, Newton,NJ,7860,2020-02-02\n",
            "Arthur Reed,Male,32, Hobart,IN,46342,2020-08-01\n",
            "Preston Nelson,Male,29, Long Beach,NY,11561,2020-01-25\n",
            "Haris Watson,Male,29, Hamilton,OH,45011,2020-02-06\n",
            "Sam Martin,Male,44, Ankeny,IA,50023,2020-04-08\n",
            "Lucy Campbell,Female,24, Bolingbrook,IL,60440,2020-05-15\n",
            "Adrian Wright,Male,54, Ashburn,VA,20147,2020-08-27\n",
            "Chloe Smith,Female,40, Battle Ground,WA,98604,2020-04-30\n",
            "William Owens,Male,20, Goshen,IN,46526,2020-07-10\n",
            "Vivian Farrell,Female,42, Lincoln Park,MI,48146,2020-01-23\n",
            "Brad Hamilton,Male,48, Crofton,MD,21114,2020-06-23\n",
            "Rosie Adams,Female,48, New City,NY,10956,2020-01-22\n",
            "Victoria Richardson,Female,47, Thibodaux,LA,70301,2020-03-12\n",
            "Michael Sullivan,Male,52, Helena,MT,59601,2020-02-24\n",
            "Andrew Douglas,Male,36, Staunton,VA,24401,2020-01-31\n",
            "Ted Owens,Male,51, Shepherdsville,KY,40165,2020-02-29\n",
            "Sawyer Andrews,Male,21, Frederick,MD,21701,2020-08-13\n",
            "Heather Russell,Female,17, Chippewa Falls,WI,54729,2020-08-20\n",
            "Edith Harper,Female,55, Ithaca,NY,14850,2020-03-28\n",
            "Rosie Stevens,Female,42, Corpus Christi,TX,78418,2020-03-11\n",
            "Jack Richardson,Male,23, Bridgeport,CT,6606,2020-07-08\n",
            "Paul Casey,Male,48, Phillipsburg,NJ,8865,2020-07-07\n",
            "Eddy Reed,Male,45, Elizabeth,NJ,7202,2020-02-06\n",
            "Agata Mason,Female,27, Farmingdale,NY,11735,2020-05-25\n",
            "Vincent Gibson,Male,34, Rolling Meadows,IL,60008,2020-06-02\n",
            "Preston Stevens,Male,25, Pembroke Pines,FL,33028,2020-04-06\n",
            "Vanessa Morris,Female,21, Davison,MI,48423,2020-06-17\n",
            "Alfred Russell,Male,49, Summerfield,FL,34491,2020-07-08\n",
            "Julian Wright,Male,31, Victoria,TX,77904,2020-08-17\n",
            "William Edwards,Male,41, Summerville,SC,29483,2020-05-25\n",
            "Ashton Anderson,Male,29, Council Bluffs,IA,51501,2020-08-11\n",
            "Carlos Russell,Male,30, Alliance,OH,44601,2020-08-22\n",
            "Catherine Johnston,Female,42, Chaska,MN,55318,2020-08-12\n",
            "Grace Robinson,Female,53, Lake Mary,FL,32746,2020-01-15\n",
            "Chester Dixon,Male,53, Middleton,WI,53562,2020-07-27\n",
            "Sophia Hunt,Female,49, Kingston,NY,12401,2020-05-21\n",
            "Isabella Johnston,Female,46, Union City,NJ,7087,2020-01-16\n",
            "Amelia Warren,Female,22, Roy,UT,84067,2020-02-27\n",
            "Aldus Moore,Male,55, Wooster,OH,44691,2020-03-16\n",
            "Gianna Gibson,Female,42, Champaign,IL,61821,2020-07-31\n",
            "Clark West,Male,50, Aberdeen,SD,57401,2020-03-21\n",
            "Roman Wells,Male,36, Wantagh,NY,11793,2020-04-29\n",
            "Vanessa Davis,Female,20, Colorado Springs,CO,80911,2020-05-05\n",
            "Tara Anderson,Female,42, Pelham,AL,35124,2020-01-05\n",
            "Tony Wilson,Male,25, Rocky Mount,NC,27804,2020-06-18\n",
            "Oliver Sullivan,Male,55, Grovetown,GA,30813,2020-03-03\n",
            "Eleanor Ryan,Female,25, Winchester,VA,22601,2020-08-26\n",
            "Kate Thomas,Female,20, Woodstock,GA,30188,2020-03-15\n",
            "Alexia Payne,Female,25, Buckeye,AZ,85326,2020-02-08\n",
            "Kirsten Edwards,Female,20, Ocean Springs,MS,39564,2020-02-25\n",
            "Natalie Perkins,Female,20, Ooltewah,TN,37363,2020-02-13\n",
            "Ryan Mitchell,Male,38, Port Huron,MI,48060,2020-07-11\n",
            "Ellia Turner,Female,33, Lemont,IL,60439,2020-06-02\n",
            "Kate Mason,Female,22, Coram,NY,11727,2020-05-28\n",
            "Richard Fowler,Male,37, Port Charlotte,FL,33952,2020-02-29\n",
            "Audrey Stevens,Female,20, Shrewsbury,MA,1545,2020-02-03\n",
            "Deanna Williams,Female,54, Indianapolis,IN,46201,2020-05-09\n",
            "Daisy Harrison,Female,19, Newnan,GA,30263,2020-02-20\n",
            "Harold Robinson,Male,29, Ottumwa,IA,52501,2020-02-12\n",
            "Lucia Carroll,Female,25, Parlin,NJ,8859,2020-04-25\n",
            "Bruce Harris,Male,45, Warren,MI,48089,2020-08-19\n",
            "Arthur Carter,Male,37, Indian Trail,NC,28079,2020-02-03\n",
            "Aldus Baker,Male,34, Paramus,NJ,7652,2020-06-24\n",
            "Sabrina Holmes,Female,45, Blackwood,NJ,8012,2020-05-01\n",
            "Haris Hamilton,Male,17, Hanover Park,IL,60133,2020-07-17\n",
            "Jordan Edwards,Male,18, Barberton,OH,44203,2020-06-23\n",
            "William Tucker,Male,37, Merrimack,NH,3054,2020-07-23\n",
            "Miley Stevens,Female,37, Hope Mills,NC,28348,2020-05-17\n",
            "Miller Brooks,Male,18, Lake Zurich,IL,60047,2020-02-29\n",
            "Kimberly Morris,Female,23, Delray Beach,FL,33445,2020-02-16\n",
            "Alisa Morgan,Female,25, Nottingham,MD,21236,2020-08-30\n",
            "William Richardson,Male,17, Loxahatchee,FL,33470,2020-03-23\n",
            "Vanessa Richards,Female,15, North Royalton,OH,44133,2020-03-19\n",
            "Kevin Kelly,Male,55, Philadelphia,PA,19111,2020-03-20\n",
            "Alissa Wells,Female,48, Attleboro,MA,2703,2020-05-13\n",
            "Tiana Kelley,Female,16, Smyrna,GA,30080,2020-06-02\n",
            "Victor Farrell,Male,45, Englishtown,NJ,7726,2020-01-16\n",
            "Kelsey West,Female,35, Ellicott City,MD,21042,2020-05-23\n",
            "Daisy Perkins,Female,47, Oxnard,CA,93035,2020-05-30\n",
            "Chester Johnson,Male,53, Elgin,IL,60120,2020-01-10\n",
            "Fiona Walker,Female,39, Eastpointe,MI,48021,2020-08-25\n",
            "Samantha Hill,Female,44, Union,NJ,7083,2020-03-18\n",
            "Jack Sullivan,Male,51, Allen Park,MI,48101,2020-06-04\n",
            "Frederick Phillips,Male,21, Central Islip,NY,11722,2020-02-10\n",
            "Frederick Armstrong,Male,36, Severna Park,MD,21146,2020-07-16\n",
            "Kelsey Brown,Female,24, Goldsboro,NC,27530,2020-03-17\n",
            "Kimberly Barnes,Female,49, Neptune,NJ,7753,2020-08-16\n",
            "Carina Gibson,Female,29, Mays Landing,NJ,8330,2020-01-05\n",
            "Naomi Morgan,Female,33, Hazleton,PA,18201,2020-06-12\n",
            "Freddie Richards,Male,44, Cartersville,GA,30120,2020-04-19\n",
            "Emma Wright,Female,45, Quincy,MA,2169,2020-02-02\n",
            "Natalie Ferguson,Female,36, Chicago,IL,60621,2020-03-02\n",
            "Briony Carter,Female,25, Ocoee,FL,34761,2020-07-02\n",
            "Rosie Williams,Female,20, Brookline,MA,2446,2020-01-22\n"
          ]
        }
      ]
    },
    {
      "cell_type": "markdown",
      "source": [
        "## Task 2: Aggregations\n",
        "\n",
        "### Task 2.1\n",
        "> Perform a transform to determine the % split between female and male customers\n",
        "\n",
        "Here we follow a map-reduce style workload. We emit tuples of (M/F, 1), where (Male, 1) is emitted if male and (Female, 1) is emitted if female.\n",
        "\n",
        "Test you code with\n",
        "```\n",
        "with beam.Pipeline() as pipeline:\n",
        "  (pipeline\n",
        "      | 'Read lines' >> beam.io.ReadFromText('users.csv')\n",
        "      | 'format line' >> beam.ParDo(Transform())\n",
        "      | 'add_key' >> beam.Map(lambda elem: (elem[1], 1))  # emit (M/F, 1) pairs\n",
        "      | \"print\" >> beam.Map(print)\n",
        "  )\n",
        "```\n",
        "\n",
        "and by removing the `combineByKey` part.\n",
        "\n",
        "We are defining a new `Transform` function here because we want to get rid of that header."
      ],
      "metadata": {
        "id": "jHAkk2noOXBG"
      }
    },
    {
      "cell_type": "code",
      "source": [
        "user_header = ['User', 'Gender', 'Age', 'Address', 'Date joined']\n",
        "\n",
        "class Transform(beam.DoFn):\n",
        "\n",
        "  def process(self, element):\n",
        "    row_list =  element.split(',')\n",
        "    if len(set(user_header).symmetric_difference(set(row_list))) == 0:\n",
        "      pass\n",
        "    else:\n",
        "      row_list[4] = row_list[4].replace('/', '-')\n",
        "      row_list[3] = row_list[3].replace('-', ',')\n",
        "      yield row_list\n",
        "\n",
        "\n",
        "with beam.Pipeline() as pipeline:\n",
        "  (pipeline\n",
        "      | 'Read lines' >> beam.io.ReadFromText('users.csv')\n",
        "      | 'format line' >> beam.ParDo(Transform())\n",
        "      | 'add_key' >> beam.Map(lambda elem: (elem[1], 1))  # emit (M/F, 1) pairs\n",
        "      | 'sum' >> beam.CombinePerKey(sum)\n",
        "      | \"print\" >> beam.Map(print)\n",
        "  )\n"
      ],
      "metadata": {
        "id": "UAt5RmznOa_y",
        "colab": {
          "base_uri": "https://localhost:8080/"
        },
        "outputId": "f5e9e2eb-b37b-40a0-aff9-f5239cee3bf3"
      },
      "execution_count": null,
      "outputs": [
        {
          "output_type": "stream",
          "name": "stdout",
          "text": [
            "('Female', 52)\n",
            "('Male', 48)\n"
          ]
        }
      ]
    },
    {
      "cell_type": "markdown",
      "source": [
        "#### Variations on function\n",
        "There are many ways to do it, but to do it in a beam-stream like fashion (remember, we are working with bounded data here, but it is worthwhile exploring the tool) is a little trickier.\n",
        "\n",
        "If we want to keep it properly within Beam, i.e. we don't extract the count and genders from each PCollection, but rather create a directed_acyclic_graph (DAG) that solves our problem, then see the Example 5: Combining with side inputs as singletons functionality.\n",
        "\n",
        "A singleton is a object oriented programming concept whereby an object is created once, and subsequent calls to that object in the code will access that same object.\n",
        "\n",
        "Interesting, and you will recall from the conversation about Spark, these workloads are designed for massive parallel computation. This means that PCollections are split over multiple machines and aren't made for collecting values from arbitrarily (see SO)\n",
        "\n",
        "This following cell would have been sufficient to answer the question. It is not entirely neat as we are not calculating the percentages directly from the pipelines, but that will be done in the next more complete answer."
      ],
      "metadata": {
        "id": "sDl_HYLiQsgS"
      }
    },
    {
      "cell_type": "code",
      "source": [
        "\n",
        "with beam.Pipeline() as pipeline:\n",
        "\n",
        "  cleaned_csv = (pipeline\n",
        "      | 'Read lines' >> beam.io.ReadFromText('users.csv')\n",
        "      | 'format line' >> beam.ParDo(Transform())\n",
        "  )\n",
        "\n",
        "  # let's get that global total\n",
        "  totals = cleaned_csv | 'Count elements' >> beam.combiners.Count.Globally()\n",
        "\n",
        "  # now,\n",
        "  counts = ( cleaned_csv\n",
        "            | 'add_key' >> beam.Map(lambda elem: (elem[1], 1))  # emit (M/F, 1) pairs\n",
        "            | 'sum' >> beam.CombinePerKey(sum)\n",
        "           )\n",
        "\n",
        "#          --- totals ---\n",
        "#        /                \\\n",
        "# csv ---                    --- flatten\n",
        "#        \\                /\n",
        "#          --- counts ---\n",
        "#\n",
        "# make our two split pipelines converge again with Flatten, and print the values\n",
        "\n",
        "  ((counts, totals)\n",
        "    | 'flatten ' >> beam.Flatten()\n",
        "    | 'Print result' >> beam.Map(print)\n",
        "  )\n"
      ],
      "metadata": {
        "id": "mIlJA-6EQ0kD",
        "colab": {
          "base_uri": "https://localhost:8080/"
        },
        "outputId": "0792388c-62ad-47ec-e9df-8138aa5c0f5a"
      },
      "execution_count": null,
      "outputs": [
        {
          "output_type": "stream",
          "name": "stdout",
          "text": [
            "('Female', 52)\n",
            "('Male', 48)\n",
            "100\n"
          ]
        }
      ]
    },
    {
      "cell_type": "markdown",
      "source": [
        "To complete it with a single beam pipeline that gives us the final answer directly, we co-opted the example [Example 8: Combining with a CombineFn](https://beam.apache.org/documentation/transforms/python/aggregation/combinevalues/). We copied and pasted the code exactly and then just had to make sure that the pipeline was as expected.\n",
        "\n",
        "In their example, they took tuples `('label': [list])`, and computed percentages\n",
        "```\n",
        "('spring', ['🥕', '🍅', '🥕', '🍅', '🍆']),\n",
        "('summer', ['🥕', '🍅', '🌽', '🍅', '🍅']),\n",
        "('fall', ['🥕', '🥕', '🍅', '🍅']),\n",
        "('winter', ['🍆', '🍆'])\n",
        "```\n",
        "\n"
      ],
      "metadata": {
        "id": "LEXTqO8sQ4HL"
      }
    },
    {
      "cell_type": "code",
      "source": [
        "\n",
        "# this custom combiner was taken directly from beam's documentation:\n",
        "###\n",
        "# BEGIN: COPY PASTA\n",
        "###\n",
        "class AverageFn(beam.CombineFn):\n",
        "  def create_accumulator(self):\n",
        "    return {}\n",
        "\n",
        "  def add_input(self, accumulator, input):\n",
        "    if input not in accumulator:\n",
        "      accumulator[input] = 0\n",
        "    accumulator[input] += 1\n",
        "    return accumulator\n",
        "\n",
        "  def merge_accumulators(self, accumulators):\n",
        "    merged = {}\n",
        "    for accum in accumulators:\n",
        "      for item, count in accum.items():\n",
        "        if item not in merged:\n",
        "          merged[item] = 0\n",
        "        merged[item] += count\n",
        "    return merged\n",
        "\n",
        "  def extract_output(self, accumulator):\n",
        "    total = sum(accumulator.values())\n",
        "    percentages = {item: count / total for item, count in accumulator.items()}\n",
        "    return percentages\n",
        "###\n",
        "# END: COPY PASTA\n",
        "###\n",
        "\n",
        "class Transform(beam.DoFn):\n",
        "\n",
        "  def process(self, element):\n",
        "    row_list =  element.split(',')\n",
        "    if len(set(user_header).symmetric_difference(set(row_list))) == 0:\n",
        "      pass\n",
        "    else:\n",
        "      yield ('gender', row_list[1])\n",
        "\n",
        "\n",
        "with beam.Pipeline() as pipeline:\n",
        "\n",
        "  csv = (pipeline\n",
        "      | 'Read lines' >> beam.io.ReadFromText('users.csv')\n",
        "      | 'format line' >> beam.ParDo(Transform())\n",
        "      | 'group' >> beam.GroupByKey()\n",
        "      | 'sum' >> beam.CombineValues(AverageFn())\n",
        "      | 'print' >> beam.Map(print)\n",
        "  )\n",
        "\n"
      ],
      "metadata": {
        "id": "m1LzAIMXQ-vL",
        "colab": {
          "base_uri": "https://localhost:8080/"
        },
        "outputId": "12bf4f66-213f-4e90-ea7a-ba2725c6590e"
      },
      "execution_count": null,
      "outputs": [
        {
          "output_type": "stream",
          "name": "stdout",
          "text": [
            "('gender', {'Female': 0.52, 'Male': 0.48})\n"
          ]
        }
      ]
    },
    {
      "cell_type": "markdown",
      "source": [
        "## Task 2.2\n",
        "\n",
        "> Perform a transform that counts the number of customers that joined on each day\n",
        "\n",
        "This answer will be the same as simply grouping by dates and counting occurences of the lines (if the customers can't join more than once).\n",
        "\n",
        "Spoiler alert. They are the same."
      ],
      "metadata": {
        "id": "-S2IYmdHOhAA"
      }
    },
    {
      "cell_type": "code",
      "source": [
        "# class GetState(beam.DoFn):\n",
        "\n",
        "#   def process(self, x):\n",
        "#     yield x[3].split(',')[1]\n",
        "\n",
        "class Count(beam.DoFn):\n",
        "\n",
        "  def process(self, element):\n",
        "    yield (element[0], len(element[1]))\n",
        "\n",
        "with beam.Pipeline() as pipeline:\n",
        "  (pipeline\n",
        "      | 'Read lines' >> beam.io.ReadFromText('users.csv')\n",
        "      | 'inline-transform' >> beam.Map(lambda x: x.split(','))\n",
        "      | 'get-day-cust' >> beam.Map(lambda x: (x[4].replace('/', '-'), x[0]))\n",
        "      | 'drop-header' >> beam.Filter(lambda x: x[0] != 'Date joined')\n",
        "      | 'groupby' >> beam.GroupByKey()\n",
        "      | 'count' >> beam.ParDo(Count())\n",
        "      | \"print\" >> beam.Map(print)\n",
        "  )"
      ],
      "metadata": {
        "id": "jJ8LWQKPRH5g",
        "colab": {
          "base_uri": "https://localhost:8080/"
        },
        "outputId": "5407ca77-d91f-4994-c455-05c5f1e27b6a"
      },
      "execution_count": null,
      "outputs": [
        {
          "output_type": "stream",
          "name": "stdout",
          "text": [
            "('2020-08-31', 1)\n",
            "('2020-03-22', 1)\n",
            "('2020-05-28', 2)\n",
            "('2020-04-04', 1)\n",
            "('2020-05-12', 1)\n",
            "('2020-04-17', 1)\n",
            "('2020-02-02', 2)\n",
            "('2020-08-01', 1)\n",
            "('2020-01-25', 1)\n",
            "('2020-02-06', 2)\n",
            "('2020-04-08', 1)\n",
            "('2020-05-15', 1)\n",
            "('2020-08-27', 1)\n",
            "('2020-04-30', 1)\n",
            "('2020-07-10', 1)\n",
            "('2020-01-23', 1)\n",
            "('2020-06-23', 2)\n",
            "('2020-01-22', 2)\n",
            "('2020-03-12', 1)\n",
            "('2020-02-24', 1)\n",
            "('2020-01-31', 1)\n",
            "('2020-02-29', 3)\n",
            "('2020-08-13', 1)\n",
            "('2020-08-20', 1)\n",
            "('2020-03-28', 1)\n",
            "('2020-03-11', 1)\n",
            "('2020-07-08', 2)\n",
            "('2020-07-07', 1)\n",
            "('2020-05-25', 2)\n",
            "('2020-06-02', 3)\n",
            "('2020-04-06', 1)\n",
            "('2020-06-17', 1)\n",
            "('2020-08-17', 1)\n",
            "('2020-08-11', 1)\n",
            "('2020-08-22', 1)\n",
            "('2020-08-12', 1)\n",
            "('2020-01-15', 1)\n",
            "('2020-07-27', 1)\n",
            "('2020-05-21', 1)\n",
            "('2020-01-16', 2)\n",
            "('2020-02-27', 1)\n",
            "('2020-03-16', 1)\n",
            "('2020-07-31', 1)\n",
            "('2020-03-21', 1)\n",
            "('2020-04-29', 1)\n",
            "('2020-05-05', 1)\n",
            "('2020-01-05', 2)\n",
            "('2020-06-18', 1)\n",
            "('2020-03-03', 1)\n",
            "('2020-08-26', 1)\n",
            "('2020-03-15', 1)\n",
            "('2020-02-08', 1)\n",
            "('2020-02-25', 1)\n",
            "('2020-02-13', 1)\n",
            "('2020-07-11', 1)\n",
            "('2020-02-03', 2)\n",
            "('2020-05-09', 1)\n",
            "('2020-02-20', 1)\n",
            "('2020-02-12', 1)\n",
            "('2020-04-25', 1)\n",
            "('2020-08-19', 1)\n",
            "('2020-06-24', 1)\n",
            "('2020-05-01', 1)\n",
            "('2020-07-17', 1)\n",
            "('2020-07-23', 1)\n",
            "('2020-05-17', 1)\n",
            "('2020-02-16', 1)\n",
            "('2020-08-30', 1)\n",
            "('2020-03-23', 1)\n",
            "('2020-03-19', 1)\n",
            "('2020-03-20', 1)\n",
            "('2020-05-13', 1)\n",
            "('2020-05-23', 1)\n",
            "('2020-05-30', 1)\n",
            "('2020-01-10', 1)\n",
            "('2020-08-25', 1)\n",
            "('2020-03-18', 1)\n",
            "('2020-06-04', 1)\n",
            "('2020-02-10', 1)\n",
            "('2020-07-16', 1)\n",
            "('2020-03-17', 1)\n",
            "('2020-08-16', 1)\n",
            "('2020-06-12', 1)\n",
            "('2020-04-19', 1)\n",
            "('2020-03-02', 1)\n",
            "('2020-07-02', 1)\n"
          ]
        }
      ]
    },
    {
      "cell_type": "markdown",
      "source": [
        "## Task 2.3\n",
        "\n",
        "> Perform a transform that counts the number of customers for each unique state\n"
      ],
      "metadata": {
        "id": "LyA-3r_nOk0o"
      }
    },
    {
      "cell_type": "code",
      "source": [
        "class Count(beam.DoFn):\n",
        "\n",
        "  def process(self, element):\n",
        "    yield (element[0], len(element[1]))\n",
        "\n",
        "with beam.Pipeline() as pipeline:\n",
        "  (pipeline\n",
        "      | 'Read lines' >> beam.io.ReadFromText('users.csv')\n",
        "      | 'inline-transform' >> beam.Map(lambda x: x.split(','))\n",
        "      | 'drop header' >> beam.Filter(lambda x: 'Date joined' not in x)\n",
        "      | 'get-state-cust' >> beam.Map(lambda x: (x[3].split('-')[1], x[0]))\n",
        "      | 'groupby' >> beam.GroupByKey()\n",
        "      | 'sum' >> beam.ParDo(Count())\n",
        "      | \"print\" >> beam.Map(print)\n",
        "  )"
      ],
      "metadata": {
        "id": "aaBN4Yj7O1r2",
        "colab": {
          "base_uri": "https://localhost:8080/"
        },
        "outputId": "edae7f3b-6b43-416f-ea79-7e861a9ee1af"
      },
      "execution_count": null,
      "outputs": [
        {
          "output_type": "stream",
          "name": "stdout",
          "text": [
            "('OH', 6)\n",
            "('NY', 10)\n",
            "('CT', 2)\n",
            "('NJ', 12)\n",
            "('NE', 1)\n",
            "('IN', 3)\n",
            "('IA', 3)\n",
            "('IL', 8)\n",
            "('VA', 3)\n",
            "('WA', 1)\n",
            "('MI', 6)\n",
            "('MD', 5)\n",
            "('LA', 1)\n",
            "('MT', 1)\n",
            "('KY', 1)\n",
            "('WI', 2)\n",
            "('TX', 2)\n",
            "('FL', 7)\n",
            "('SC', 1)\n",
            "('MN', 1)\n",
            "('UT', 1)\n",
            "('SD', 1)\n",
            "('CO', 1)\n",
            "('AL', 1)\n",
            "('NC', 4)\n",
            "('GA', 5)\n",
            "('AZ', 1)\n",
            "('MS', 1)\n",
            "('TN', 1)\n",
            "('MA', 4)\n",
            "('NH', 1)\n",
            "('PA', 2)\n",
            "('CA', 1)\n"
          ]
        }
      ]
    },
    {
      "cell_type": "code",
      "source": [],
      "metadata": {
        "id": "ER5hFdDRRvC-"
      },
      "execution_count": null,
      "outputs": []
    }
  ],
  "metadata": {
    "colab": {
      "provenance": [],
      "include_colab_link": true
    },
    "kernelspec": {
      "display_name": "Python 3",
      "name": "python3"
    },
    "language_info": {
      "name": "python"
    }
  },
  "nbformat": 4,
  "nbformat_minor": 0
}